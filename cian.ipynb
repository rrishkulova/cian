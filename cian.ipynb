{
 "cells": [
  {
   "cell_type": "markdown",
   "metadata": {},
   "source": [
    "## Анализ объявлений об аренде квартир"
   ]
  },
  {
   "cell_type": "markdown",
   "metadata": {},
   "source": [
    "##### Импорт библиотек"
   ]
  },
  {
   "cell_type": "code",
   "execution_count": 1,
   "metadata": {},
   "outputs": [],
   "source": [
    "import pandas as pd\n",
    "import numpy as np\n",
    "\n",
    "import seaborn as sns\n",
    "import matplotlib.pyplot as plt\n",
    "\n",
    "from pymystem3 import Mystem"
   ]
  },
  {
   "cell_type": "markdown",
   "metadata": {},
   "source": [
    "##### Настройка"
   ]
  },
  {
   "cell_type": "code",
   "execution_count": 2,
   "metadata": {},
   "outputs": [],
   "source": [
    "# сброс ограничений на число столбцов\n",
    "pd.set_option('display.max_columns', None)\n",
    "pd.set_option('display.float_format', '{:.4f}'.format)"
   ]
  },
  {
   "cell_type": "markdown",
   "metadata": {},
   "source": [
    "##### Анализ файла"
   ]
  },
  {
   "cell_type": "code",
   "execution_count": 3,
   "metadata": {},
   "outputs": [],
   "source": [
    "path = '/home/rushana/ds_bootcamp/01-01/ds-phase-0/learning/datasets/cian.csv'\n",
    "cian = pd.read_csv(path)"
   ]
  },
  {
   "cell_type": "code",
   "execution_count": 4,
   "metadata": {},
   "outputs": [
    {
     "data": {
      "text/html": [
       "<div>\n",
       "<style scoped>\n",
       "    .dataframe tbody tr th:only-of-type {\n",
       "        vertical-align: middle;\n",
       "    }\n",
       "\n",
       "    .dataframe tbody tr th {\n",
       "        vertical-align: top;\n",
       "    }\n",
       "\n",
       "    .dataframe thead th {\n",
       "        text-align: right;\n",
       "    }\n",
       "</style>\n",
       "<table border=\"1\" class=\"dataframe\">\n",
       "  <thead>\n",
       "    <tr style=\"text-align: right;\">\n",
       "      <th></th>\n",
       "      <th>Unnamed: 0</th>\n",
       "      <th>ID  объявления</th>\n",
       "      <th>Количество комнат</th>\n",
       "      <th>Тип</th>\n",
       "      <th>Метро</th>\n",
       "      <th>Адрес</th>\n",
       "      <th>Площадь, м2</th>\n",
       "      <th>Дом</th>\n",
       "      <th>Парковка</th>\n",
       "      <th>Цена</th>\n",
       "      <th>Телефоны</th>\n",
       "      <th>Описание</th>\n",
       "      <th>Ремонт</th>\n",
       "      <th>Площадь комнат, м2</th>\n",
       "      <th>Балкон</th>\n",
       "      <th>Окна</th>\n",
       "      <th>Санузел</th>\n",
       "      <th>Можно с детьми/животными</th>\n",
       "      <th>Дополнительно</th>\n",
       "      <th>Название ЖК</th>\n",
       "      <th>Серия дома</th>\n",
       "      <th>Высота потолков, м</th>\n",
       "      <th>Лифт</th>\n",
       "      <th>Мусоропровод</th>\n",
       "      <th>Ссылка на объявление</th>\n",
       "    </tr>\n",
       "  </thead>\n",
       "  <tbody>\n",
       "    <tr>\n",
       "      <th>0</th>\n",
       "      <td>0</td>\n",
       "      <td>271271157</td>\n",
       "      <td>4</td>\n",
       "      <td>Квартира</td>\n",
       "      <td>м. Смоленская (9 мин пешком)</td>\n",
       "      <td>Москва, улица Новый Арбат, 27</td>\n",
       "      <td>200.0/20.0</td>\n",
       "      <td>5/16, Монолитный</td>\n",
       "      <td>подземная</td>\n",
       "      <td>500000.0 руб./ За месяц, Залог - 500000 руб., ...</td>\n",
       "      <td>+79166369231</td>\n",
       "      <td>Без комиссии для нанимателя! Бонус коллегам 12...</td>\n",
       "      <td>Дизайнерский</td>\n",
       "      <td>NaN</td>\n",
       "      <td>NaN</td>\n",
       "      <td>NaN</td>\n",
       "      <td>NaN</td>\n",
       "      <td>Можно с детьми, Можно с животными</td>\n",
       "      <td>Мебель в комнатах, Мебель на кухне, Ванна, Душ...</td>\n",
       "      <td>Новый Арбат, 2010</td>\n",
       "      <td>NaN</td>\n",
       "      <td>3.0000</td>\n",
       "      <td>Пасс (4), Груз (1)</td>\n",
       "      <td>Да</td>\n",
       "      <td>https://www.cian.ru/rent/flat/271271157</td>\n",
       "    </tr>\n",
       "    <tr>\n",
       "      <th>1</th>\n",
       "      <td>1</td>\n",
       "      <td>271634126</td>\n",
       "      <td>4</td>\n",
       "      <td>Квартира</td>\n",
       "      <td>м. Смоленская (8 мин пешком)</td>\n",
       "      <td>Москва, улица Новый Арбат, 27</td>\n",
       "      <td>198.0/95.0/18.0</td>\n",
       "      <td>5/16, Монолитно-кирпичный</td>\n",
       "      <td>подземная</td>\n",
       "      <td>500000.0 руб./ За месяц, Залог - 500000 руб., ...</td>\n",
       "      <td>+79850608590</td>\n",
       "      <td>Лот 93107. Елена Анисимова.\\n\\nБонус агенту 50...</td>\n",
       "      <td>Дизайнерский</td>\n",
       "      <td>25 25 20 25</td>\n",
       "      <td>NaN</td>\n",
       "      <td>На улицу и двор</td>\n",
       "      <td>Совмещенный (2), Раздельный (1)</td>\n",
       "      <td>Можно с детьми</td>\n",
       "      <td>Мебель в комнатах, Мебель на кухне, Ванна, Душ...</td>\n",
       "      <td>Новый Арбат</td>\n",
       "      <td>NaN</td>\n",
       "      <td>3.5000</td>\n",
       "      <td>Пасс (1), Груз (1)</td>\n",
       "      <td>Нет</td>\n",
       "      <td>https://www.cian.ru/rent/flat/271634126</td>\n",
       "    </tr>\n",
       "    <tr>\n",
       "      <th>2</th>\n",
       "      <td>2</td>\n",
       "      <td>271173086</td>\n",
       "      <td>4, Оба варианта</td>\n",
       "      <td>Квартира</td>\n",
       "      <td>м. Смоленская (7 мин пешком)</td>\n",
       "      <td>Москва, улица Новый Арбат, 27</td>\n",
       "      <td>200.0/116.0/4.0</td>\n",
       "      <td>5/16</td>\n",
       "      <td>подземная</td>\n",
       "      <td>500000.0 руб./ За месяц, Залог - 500000 руб., ...</td>\n",
       "      <td>+79672086536, +79099269384</td>\n",
       "      <td>ID 36380:  Шикарная 4-х км. квартира в ЖК \"Нов...</td>\n",
       "      <td>Евроремонт</td>\n",
       "      <td>NaN</td>\n",
       "      <td>NaN</td>\n",
       "      <td>На улицу и двор</td>\n",
       "      <td>Совмещенный (3)</td>\n",
       "      <td>Можно с детьми</td>\n",
       "      <td>Мебель в комнатах, Мебель на кухне, Ванна, Душ...</td>\n",
       "      <td>Новый Арбат</td>\n",
       "      <td>NaN</td>\n",
       "      <td>3.2000</td>\n",
       "      <td>Пасс (1)</td>\n",
       "      <td>NaN</td>\n",
       "      <td>https://www.cian.ru/rent/flat/271173086</td>\n",
       "    </tr>\n",
       "  </tbody>\n",
       "</table>\n",
       "</div>"
      ],
      "text/plain": [
       "   Unnamed: 0  ID  объявления Количество комнат       Тип  \\\n",
       "0           0       271271157                 4  Квартира   \n",
       "1           1       271634126                 4  Квартира   \n",
       "2           2       271173086   4, Оба варианта  Квартира   \n",
       "\n",
       "                          Метро                          Адрес  \\\n",
       "0  м. Смоленская (9 мин пешком)  Москва, улица Новый Арбат, 27   \n",
       "1  м. Смоленская (8 мин пешком)  Москва, улица Новый Арбат, 27   \n",
       "2  м. Смоленская (7 мин пешком)  Москва, улица Новый Арбат, 27   \n",
       "\n",
       "       Площадь, м2                        Дом   Парковка  \\\n",
       "0       200.0/20.0           5/16, Монолитный  подземная   \n",
       "1  198.0/95.0/18.0  5/16, Монолитно-кирпичный  подземная   \n",
       "2  200.0/116.0/4.0                       5/16  подземная   \n",
       "\n",
       "                                                Цена  \\\n",
       "0  500000.0 руб./ За месяц, Залог - 500000 руб., ...   \n",
       "1  500000.0 руб./ За месяц, Залог - 500000 руб., ...   \n",
       "2  500000.0 руб./ За месяц, Залог - 500000 руб., ...   \n",
       "\n",
       "                     Телефоны  \\\n",
       "0                +79166369231   \n",
       "1                +79850608590   \n",
       "2  +79672086536, +79099269384   \n",
       "\n",
       "                                            Описание        Ремонт  \\\n",
       "0  Без комиссии для нанимателя! Бонус коллегам 12...  Дизайнерский   \n",
       "1  Лот 93107. Елена Анисимова.\\n\\nБонус агенту 50...  Дизайнерский   \n",
       "2  ID 36380:  Шикарная 4-х км. квартира в ЖК \"Нов...    Евроремонт   \n",
       "\n",
       "  Площадь комнат, м2 Балкон             Окна                          Санузел  \\\n",
       "0                NaN    NaN              NaN                              NaN   \n",
       "1        25 25 20 25    NaN  На улицу и двор  Совмещенный (2), Раздельный (1)   \n",
       "2                NaN    NaN  На улицу и двор                  Совмещенный (3)   \n",
       "\n",
       "            Можно с детьми/животными  \\\n",
       "0  Можно с детьми, Можно с животными   \n",
       "1                     Можно с детьми   \n",
       "2                     Можно с детьми   \n",
       "\n",
       "                                       Дополнительно        Название ЖК  \\\n",
       "0  Мебель в комнатах, Мебель на кухне, Ванна, Душ...  Новый Арбат, 2010   \n",
       "1  Мебель в комнатах, Мебель на кухне, Ванна, Душ...        Новый Арбат   \n",
       "2  Мебель в комнатах, Мебель на кухне, Ванна, Душ...        Новый Арбат   \n",
       "\n",
       "  Серия дома  Высота потолков, м                Лифт Мусоропровод  \\\n",
       "0        NaN              3.0000  Пасс (4), Груз (1)           Да   \n",
       "1        NaN              3.5000  Пасс (1), Груз (1)          Нет   \n",
       "2        NaN              3.2000            Пасс (1)          NaN   \n",
       "\n",
       "                      Ссылка на объявление  \n",
       "0  https://www.cian.ru/rent/flat/271271157  \n",
       "1  https://www.cian.ru/rent/flat/271634126  \n",
       "2  https://www.cian.ru/rent/flat/271173086  "
      ]
     },
     "execution_count": 4,
     "metadata": {},
     "output_type": "execute_result"
    }
   ],
   "source": [
    "cian.head(3)"
   ]
  },
  {
   "cell_type": "code",
   "execution_count": 5,
   "metadata": {},
   "outputs": [],
   "source": [
    "# cian.info()"
   ]
  },
  {
   "cell_type": "code",
   "execution_count": 6,
   "metadata": {},
   "outputs": [],
   "source": [
    "# cian.describe()"
   ]
  },
  {
   "cell_type": "code",
   "execution_count": 7,
   "metadata": {},
   "outputs": [],
   "source": [
    "# В датасете содержится 23 368 объявлений об аренде квартир. Почти все данные имеют тип 'object' и только \"ID объявления\" и \"Высота потолков, м\" имеют числовый тип представления данных.\n",
    "\n",
    "# Предварительный анализ переменной \"Высота потолков, м\" указывает на наличие ошибок в датасете (минимальная высота - 1,2 м., а максимальная 320 м.). Необходимо подробнее изучить эти данные и, скорее всего, или исключить их из датасета или попробовать заменить очевидно ошибочные данные на более адекватные (например, мединные или средние значения других квартир в этом же доме). "
   ]
  },
  {
   "cell_type": "code",
   "execution_count": 8,
   "metadata": {},
   "outputs": [],
   "source": [
    "# cian.isna().mean()"
   ]
  },
  {
   "cell_type": "markdown",
   "metadata": {},
   "source": [
    "Переименуем столбцы"
   ]
  },
  {
   "cell_type": "code",
   "execution_count": 9,
   "metadata": {},
   "outputs": [
    {
     "data": {
      "text/plain": [
       "Index(['Unnamed: 0', 'ID  объявления', 'Количество комнат', 'Тип', 'Метро',\n",
       "       'Адрес', 'Площадь, м2', 'Дом', 'Парковка', 'Цена', 'Телефоны',\n",
       "       'Описание', 'Ремонт', 'Площадь комнат, м2', 'Балкон', 'Окна', 'Санузел',\n",
       "       'Можно с детьми/животными', 'Дополнительно', 'Название ЖК',\n",
       "       'Серия дома', 'Высота потолков, м', 'Лифт', 'Мусоропровод',\n",
       "       'Ссылка на объявление'],\n",
       "      dtype='object')"
      ]
     },
     "execution_count": 9,
     "metadata": {},
     "output_type": "execute_result"
    }
   ],
   "source": [
    "cian.columns"
   ]
  },
  {
   "cell_type": "code",
   "execution_count": 10,
   "metadata": {},
   "outputs": [],
   "source": [
    "cian.columns = ['Unnamed: 0', 'ID_ad', 'rooms', 'type', 'metro', 'address', 'area_m2', 'house', 'parking', 'price', 'phone', \n",
    "                'description', 'renovation', 'rooms_area_m2', 'loggia', 'windows', 'bathroom', 'possible_with_children_pets', \n",
    "                'additionally', 'rc_name', 'house_series', 'ceiling_height', 'lift', 'garbage_chute', 'link']"
   ]
  },
  {
   "cell_type": "code",
   "execution_count": 11,
   "metadata": {},
   "outputs": [
    {
     "data": {
      "text/plain": [
       "Unnamed: 0                     23368\n",
       "ID_ad                          23368\n",
       "rooms                             24\n",
       "type                               1\n",
       "metro                           5866\n",
       "address                        12850\n",
       "area_m2                        11255\n",
       "house                           2565\n",
       "parking                            5\n",
       "price                           3922\n",
       "phone                          13172\n",
       "description                    23078\n",
       "renovation                         4\n",
       "rooms_area_m2                   3990\n",
       "loggia                            18\n",
       "windows                            3\n",
       "bathroom                          20\n",
       "possible_with_children_pets        3\n",
       "additionally                     528\n",
       "rc_name                         1798\n",
       "house_series                     393\n",
       "ceiling_height                    95\n",
       "lift                              34\n",
       "garbage_chute                      2\n",
       "link                           23368\n",
       "dtype: int64"
      ]
     },
     "execution_count": 11,
     "metadata": {},
     "output_type": "execute_result"
    }
   ],
   "source": [
    "cian.nunique()"
   ]
  },
  {
   "cell_type": "markdown",
   "metadata": {},
   "source": [
    "Удалим из датасета столбцы *Unnamed: 0* (дублирует индекс строк), *type* (значение этой переменной одинаково для всех объявлений), *rk_name*, *house_series*, *link*, *phone* и *ID_ad* (значения данных столбцов не оказывают влияния на величину арендной платы)"
   ]
  },
  {
   "cell_type": "code",
   "execution_count": 12,
   "metadata": {},
   "outputs": [
    {
     "data": {
      "text/html": [
       "<div>\n",
       "<style scoped>\n",
       "    .dataframe tbody tr th:only-of-type {\n",
       "        vertical-align: middle;\n",
       "    }\n",
       "\n",
       "    .dataframe tbody tr th {\n",
       "        vertical-align: top;\n",
       "    }\n",
       "\n",
       "    .dataframe thead th {\n",
       "        text-align: right;\n",
       "    }\n",
       "</style>\n",
       "<table border=\"1\" class=\"dataframe\">\n",
       "  <thead>\n",
       "    <tr style=\"text-align: right;\">\n",
       "      <th></th>\n",
       "      <th>rooms</th>\n",
       "      <th>metro</th>\n",
       "      <th>address</th>\n",
       "      <th>area_m2</th>\n",
       "      <th>house</th>\n",
       "      <th>parking</th>\n",
       "      <th>price</th>\n",
       "      <th>description</th>\n",
       "      <th>renovation</th>\n",
       "      <th>rooms_area_m2</th>\n",
       "      <th>loggia</th>\n",
       "      <th>windows</th>\n",
       "      <th>bathroom</th>\n",
       "      <th>possible_with_children_pets</th>\n",
       "      <th>additionally</th>\n",
       "      <th>ceiling_height</th>\n",
       "      <th>lift</th>\n",
       "      <th>garbage_chute</th>\n",
       "    </tr>\n",
       "  </thead>\n",
       "  <tbody>\n",
       "    <tr>\n",
       "      <th>0</th>\n",
       "      <td>4</td>\n",
       "      <td>м. Смоленская (9 мин пешком)</td>\n",
       "      <td>Москва, улица Новый Арбат, 27</td>\n",
       "      <td>200.0/20.0</td>\n",
       "      <td>5/16, Монолитный</td>\n",
       "      <td>подземная</td>\n",
       "      <td>500000.0 руб./ За месяц, Залог - 500000 руб., ...</td>\n",
       "      <td>Без комиссии для нанимателя! Бонус коллегам 12...</td>\n",
       "      <td>Дизайнерский</td>\n",
       "      <td>NaN</td>\n",
       "      <td>NaN</td>\n",
       "      <td>NaN</td>\n",
       "      <td>NaN</td>\n",
       "      <td>Можно с детьми, Можно с животными</td>\n",
       "      <td>Мебель в комнатах, Мебель на кухне, Ванна, Душ...</td>\n",
       "      <td>3.0000</td>\n",
       "      <td>Пасс (4), Груз (1)</td>\n",
       "      <td>Да</td>\n",
       "    </tr>\n",
       "    <tr>\n",
       "      <th>1</th>\n",
       "      <td>4</td>\n",
       "      <td>м. Смоленская (8 мин пешком)</td>\n",
       "      <td>Москва, улица Новый Арбат, 27</td>\n",
       "      <td>198.0/95.0/18.0</td>\n",
       "      <td>5/16, Монолитно-кирпичный</td>\n",
       "      <td>подземная</td>\n",
       "      <td>500000.0 руб./ За месяц, Залог - 500000 руб., ...</td>\n",
       "      <td>Лот 93107. Елена Анисимова.\\n\\nБонус агенту 50...</td>\n",
       "      <td>Дизайнерский</td>\n",
       "      <td>25 25 20 25</td>\n",
       "      <td>NaN</td>\n",
       "      <td>На улицу и двор</td>\n",
       "      <td>Совмещенный (2), Раздельный (1)</td>\n",
       "      <td>Можно с детьми</td>\n",
       "      <td>Мебель в комнатах, Мебель на кухне, Ванна, Душ...</td>\n",
       "      <td>3.5000</td>\n",
       "      <td>Пасс (1), Груз (1)</td>\n",
       "      <td>Нет</td>\n",
       "    </tr>\n",
       "    <tr>\n",
       "      <th>2</th>\n",
       "      <td>4, Оба варианта</td>\n",
       "      <td>м. Смоленская (7 мин пешком)</td>\n",
       "      <td>Москва, улица Новый Арбат, 27</td>\n",
       "      <td>200.0/116.0/4.0</td>\n",
       "      <td>5/16</td>\n",
       "      <td>подземная</td>\n",
       "      <td>500000.0 руб./ За месяц, Залог - 500000 руб., ...</td>\n",
       "      <td>ID 36380:  Шикарная 4-х км. квартира в ЖК \"Нов...</td>\n",
       "      <td>Евроремонт</td>\n",
       "      <td>NaN</td>\n",
       "      <td>NaN</td>\n",
       "      <td>На улицу и двор</td>\n",
       "      <td>Совмещенный (3)</td>\n",
       "      <td>Можно с детьми</td>\n",
       "      <td>Мебель в комнатах, Мебель на кухне, Ванна, Душ...</td>\n",
       "      <td>3.2000</td>\n",
       "      <td>Пасс (1)</td>\n",
       "      <td>NaN</td>\n",
       "    </tr>\n",
       "  </tbody>\n",
       "</table>\n",
       "</div>"
      ],
      "text/plain": [
       "             rooms                         metro  \\\n",
       "0                4  м. Смоленская (9 мин пешком)   \n",
       "1                4  м. Смоленская (8 мин пешком)   \n",
       "2  4, Оба варианта  м. Смоленская (7 мин пешком)   \n",
       "\n",
       "                         address          area_m2                      house  \\\n",
       "0  Москва, улица Новый Арбат, 27       200.0/20.0           5/16, Монолитный   \n",
       "1  Москва, улица Новый Арбат, 27  198.0/95.0/18.0  5/16, Монолитно-кирпичный   \n",
       "2  Москва, улица Новый Арбат, 27  200.0/116.0/4.0                       5/16   \n",
       "\n",
       "     parking                                              price  \\\n",
       "0  подземная  500000.0 руб./ За месяц, Залог - 500000 руб., ...   \n",
       "1  подземная  500000.0 руб./ За месяц, Залог - 500000 руб., ...   \n",
       "2  подземная  500000.0 руб./ За месяц, Залог - 500000 руб., ...   \n",
       "\n",
       "                                         description    renovation  \\\n",
       "0  Без комиссии для нанимателя! Бонус коллегам 12...  Дизайнерский   \n",
       "1  Лот 93107. Елена Анисимова.\\n\\nБонус агенту 50...  Дизайнерский   \n",
       "2  ID 36380:  Шикарная 4-х км. квартира в ЖК \"Нов...    Евроремонт   \n",
       "\n",
       "  rooms_area_m2 loggia          windows                         bathroom  \\\n",
       "0           NaN    NaN              NaN                              NaN   \n",
       "1   25 25 20 25    NaN  На улицу и двор  Совмещенный (2), Раздельный (1)   \n",
       "2           NaN    NaN  На улицу и двор                  Совмещенный (3)   \n",
       "\n",
       "         possible_with_children_pets  \\\n",
       "0  Можно с детьми, Можно с животными   \n",
       "1                     Можно с детьми   \n",
       "2                     Можно с детьми   \n",
       "\n",
       "                                        additionally  ceiling_height  \\\n",
       "0  Мебель в комнатах, Мебель на кухне, Ванна, Душ...          3.0000   \n",
       "1  Мебель в комнатах, Мебель на кухне, Ванна, Душ...          3.5000   \n",
       "2  Мебель в комнатах, Мебель на кухне, Ванна, Душ...          3.2000   \n",
       "\n",
       "                 lift garbage_chute  \n",
       "0  Пасс (4), Груз (1)            Да  \n",
       "1  Пасс (1), Груз (1)           Нет  \n",
       "2            Пасс (1)           NaN  "
      ]
     },
     "execution_count": 12,
     "metadata": {},
     "output_type": "execute_result"
    }
   ],
   "source": [
    "cian = cian.drop(['Unnamed: 0', 'ID_ad', 'type', 'link', 'phone', 'rc_name', 'house_series'], axis = 'columns')\n",
    "cian.head(3)"
   ]
  },
  {
   "cell_type": "markdown",
   "metadata": {},
   "source": [
    "Удалим полностью дублирующиеся строки"
   ]
  },
  {
   "cell_type": "code",
   "execution_count": 13,
   "metadata": {},
   "outputs": [
    {
     "data": {
      "text/plain": [
       "8"
      ]
     },
     "execution_count": 13,
     "metadata": {},
     "output_type": "execute_result"
    }
   ],
   "source": [
    "len(cian[cian.duplicated()])"
   ]
  },
  {
   "cell_type": "code",
   "execution_count": 14,
   "metadata": {},
   "outputs": [],
   "source": [
    "cian = cian.drop_duplicates()"
   ]
  },
  {
   "cell_type": "markdown",
   "metadata": {},
   "source": [
    "Оставим в датасете объявления только по Москве"
   ]
  },
  {
   "cell_type": "code",
   "execution_count": 15,
   "metadata": {},
   "outputs": [],
   "source": [
    "address = cian['address'].str.split(',',expand=True)"
   ]
  },
  {
   "cell_type": "code",
   "execution_count": 16,
   "metadata": {},
   "outputs": [
    {
     "data": {
      "text/plain": [
       "Москва                19729\n",
       "Санкт-Петербург        3028\n",
       "Краснодарский край      603\n",
       "Name: 0, dtype: int64"
      ]
     },
     "execution_count": 16,
     "metadata": {},
     "output_type": "execute_result"
    }
   ],
   "source": [
    "address[0].value_counts()"
   ]
  },
  {
   "cell_type": "code",
   "execution_count": 17,
   "metadata": {},
   "outputs": [],
   "source": [
    "cian = cian[cian['address'].str.contains('Москва')]"
   ]
  },
  {
   "cell_type": "code",
   "execution_count": 18,
   "metadata": {},
   "outputs": [
    {
     "data": {
      "text/plain": [
       "rooms                         0.0271\n",
       "metro                         0.0175\n",
       "address                       0.0000\n",
       "area_m2                       0.0000\n",
       "house                         0.0000\n",
       "parking                       0.5663\n",
       "price                         0.0000\n",
       "description                   0.0000\n",
       "renovation                    0.1248\n",
       "rooms_area_m2                 0.3663\n",
       "loggia                        0.3357\n",
       "windows                       0.2610\n",
       "bathroom                      0.1035\n",
       "possible_with_children_pets   0.2490\n",
       "additionally                  0.0138\n",
       "ceiling_height                0.4662\n",
       "lift                          0.2124\n",
       "garbage_chute                 0.4055\n",
       "dtype: float64"
      ]
     },
     "execution_count": 18,
     "metadata": {},
     "output_type": "execute_result"
    }
   ],
   "source": [
    "cian.isna().mean()"
   ]
  },
  {
   "cell_type": "markdown",
   "metadata": {},
   "source": [
    "Данные содержат множество пропусков. Какие-то пропущенные значения мы можем восполнить, какие-то придется оставить в датасете, но указать, что данные пропущены, а некоторые характеристики проще полностью исключить, поскольку пропусков больше, чем заполненных данных.\n",
    "\n",
    "Пропущенные значения содержатся в следующих переменных, %:\n",
    "\n",
    "1. Количество комнат-------------------2.71 \n",
    "2. Метро ---------------------------------------1.75 *можно заполнить на основании других объявлений об аренде квартир в этом же доме*\n",
    "3. Парковка---------------------------------56.63 *можно заполнить на основании других объявлений об аренде квартир в этом же доме*\n",
    "4. Ремонт ------------------------------------12.48 *пропусков много, но заполнить их по имеющейся информации невозможно. Оставим в датасете, но укажем, что данные отсутствуют*\n",
    "5. Площадь комнат, м2 ---------------36.63 *пропусков много, но заполнить их по имеющейся информации невозможно. Оставим в датасете, но укажем, что данные отсутствуют*\n",
    "6. Балкон ------------------------------------33.57 *пропусков много, но заполнить их по имеющейся информации невозможно. Оставим в датасете, но укажем, что данные отсутствуют*\n",
    "7. Окна ---------------------------------------26.10 *пропусков много, но заполнить их по имеющейся информации невозможно. Оставим в датасете, но укажем, что данные отсутствуют*\n",
    "8. Санузел -----------------------------------10.35 *пропусков много, но заполнить их по имеющейся информации невозможно. Оставим в датасете, но укажем, что данные отсутствуют*\n",
    "9. Можно с детьми/животными-- 24.90 *пропусков много, но заполнить их по имеющейся информации невозможно. Оставим в датасете, но укажем, что данные отсутствуют*\n",
    "10. Дополнительно-------------------------1.38\n",
    "11. Название ЖК -------------------------- 77.43 *очень много пропущенных данных, поэтому имеет смысл вообще отказаться от этого параметра и исключить его из датасета*\n",
    "12. Серия дома------------------------------89.40 *очень много пропущенных данных, поэтому имеет смысл вообще отказаться от этого параметра и исключить его из датасета*\n",
    "13. Высота потолков, м-----------------46.62\n",
    "14. Лифт----------------------------------------21.24\n",
    "15. Мусоропровод ------------------------40.55 *очень много пропущенных данных, поэтому имеет смысл вообще отказаться от этого параметра и исключить его из датасета*\n"
   ]
  },
  {
   "cell_type": "markdown",
   "metadata": {},
   "source": [
    "Для работы с категориальными признаками воспользуемся one-hot-кодированием. Для кодируемого категориального признака создаются N новых признаков, где N — число категорий. Каждый i-й новый признак — бинарный характеристический признак i-й категории. Создадим специальную функцию для one-hot-кодирования."
   ]
  },
  {
   "cell_type": "code",
   "execution_count": 19,
   "metadata": {},
   "outputs": [],
   "source": [
    "def code_ohe (data, feature):\n",
    "    for i in data[feature].unique():\n",
    "        data[feature + '=' + i] = (data[feature] == i).astype(int)\n",
    "    data = data.drop([feature], axis = 'columns')"
   ]
  },
  {
   "cell_type": "markdown",
   "metadata": {},
   "source": [
    "## price"
   ]
  },
  {
   "cell_type": "markdown",
   "metadata": {},
   "source": [
    "Выделим в отдельный столбец величину ежемесячной арендной платы"
   ]
  },
  {
   "cell_type": "code",
   "execution_count": 20,
   "metadata": {},
   "outputs": [],
   "source": [
    "cost = cian['price'].str.split(',', expand=True)\n",
    "cian['rent_cost'] = cost[0].str.split(' ')\n",
    "cian['rent_cost'] = [float(x[0]) for x in cian['rent_cost']]"
   ]
  },
  {
   "cell_type": "code",
   "execution_count": 21,
   "metadata": {},
   "outputs": [],
   "source": [
    "cian = cian.drop(['price'], axis = 'columns')"
   ]
  },
  {
   "cell_type": "code",
   "execution_count": 22,
   "metadata": {},
   "outputs": [
    {
     "data": {
      "text/html": [
       "<div>\n",
       "<style scoped>\n",
       "    .dataframe tbody tr th:only-of-type {\n",
       "        vertical-align: middle;\n",
       "    }\n",
       "\n",
       "    .dataframe tbody tr th {\n",
       "        vertical-align: top;\n",
       "    }\n",
       "\n",
       "    .dataframe thead th {\n",
       "        text-align: right;\n",
       "    }\n",
       "</style>\n",
       "<table border=\"1\" class=\"dataframe\">\n",
       "  <thead>\n",
       "    <tr style=\"text-align: right;\">\n",
       "      <th></th>\n",
       "      <th>ceiling_height</th>\n",
       "      <th>rent_cost</th>\n",
       "    </tr>\n",
       "  </thead>\n",
       "  <tbody>\n",
       "    <tr>\n",
       "      <th>count</th>\n",
       "      <td>10532.0000</td>\n",
       "      <td>19729.0000</td>\n",
       "    </tr>\n",
       "    <tr>\n",
       "      <th>mean</th>\n",
       "      <td>2.9929</td>\n",
       "      <td>86556.5310</td>\n",
       "    </tr>\n",
       "    <tr>\n",
       "      <th>std</th>\n",
       "      <td>7.8539</td>\n",
       "      <td>128163.7616</td>\n",
       "    </tr>\n",
       "    <tr>\n",
       "      <th>min</th>\n",
       "      <td>1.2000</td>\n",
       "      <td>5000.0000</td>\n",
       "    </tr>\n",
       "    <tr>\n",
       "      <th>25%</th>\n",
       "      <td>2.6400</td>\n",
       "      <td>39990.0000</td>\n",
       "    </tr>\n",
       "    <tr>\n",
       "      <th>50%</th>\n",
       "      <td>2.6400</td>\n",
       "      <td>50000.0000</td>\n",
       "    </tr>\n",
       "    <tr>\n",
       "      <th>75%</th>\n",
       "      <td>2.8000</td>\n",
       "      <td>75000.0000</td>\n",
       "    </tr>\n",
       "    <tr>\n",
       "      <th>max</th>\n",
       "      <td>320.0000</td>\n",
       "      <td>3000000.0000</td>\n",
       "    </tr>\n",
       "  </tbody>\n",
       "</table>\n",
       "</div>"
      ],
      "text/plain": [
       "       ceiling_height    rent_cost\n",
       "count      10532.0000   19729.0000\n",
       "mean           2.9929   86556.5310\n",
       "std            7.8539  128163.7616\n",
       "min            1.2000    5000.0000\n",
       "25%            2.6400   39990.0000\n",
       "50%            2.6400   50000.0000\n",
       "75%            2.8000   75000.0000\n",
       "max          320.0000 3000000.0000"
      ]
     },
     "execution_count": 22,
     "metadata": {},
     "output_type": "execute_result"
    }
   ],
   "source": [
    "cian.describe()"
   ]
  },
  {
   "cell_type": "markdown",
   "metadata": {},
   "source": [
    "Стандартное отклонение почти в полтора раза больше среднего арифметического, что указывает на большой разброс данных. Это обусловлено наличием объявлений с очень высокой стоимостью (до 3 млн руб.). Сделаем нашу выборку чуть более сглаженной. Исключим из датасета объявления стоимостью выше 350 000 руб."
   ]
  },
  {
   "cell_type": "code",
   "execution_count": 23,
   "metadata": {},
   "outputs": [],
   "source": [
    "cian = cian[cian['rent_cost'] < 350000]"
   ]
  },
  {
   "cell_type": "code",
   "execution_count": 24,
   "metadata": {},
   "outputs": [
    {
     "data": {
      "text/html": [
       "<div>\n",
       "<style scoped>\n",
       "    .dataframe tbody tr th:only-of-type {\n",
       "        vertical-align: middle;\n",
       "    }\n",
       "\n",
       "    .dataframe tbody tr th {\n",
       "        vertical-align: top;\n",
       "    }\n",
       "\n",
       "    .dataframe thead th {\n",
       "        text-align: right;\n",
       "    }\n",
       "</style>\n",
       "<table border=\"1\" class=\"dataframe\">\n",
       "  <thead>\n",
       "    <tr style=\"text-align: right;\">\n",
       "      <th></th>\n",
       "      <th>ceiling_height</th>\n",
       "      <th>rent_cost</th>\n",
       "    </tr>\n",
       "  </thead>\n",
       "  <tbody>\n",
       "    <tr>\n",
       "      <th>count</th>\n",
       "      <td>10243.0000</td>\n",
       "      <td>19004.0000</td>\n",
       "    </tr>\n",
       "    <tr>\n",
       "      <th>mean</th>\n",
       "      <td>2.9849</td>\n",
       "      <td>67687.8554</td>\n",
       "    </tr>\n",
       "    <tr>\n",
       "      <th>std</th>\n",
       "      <td>7.9634</td>\n",
       "      <td>52970.4191</td>\n",
       "    </tr>\n",
       "    <tr>\n",
       "      <th>min</th>\n",
       "      <td>1.2000</td>\n",
       "      <td>5000.0000</td>\n",
       "    </tr>\n",
       "    <tr>\n",
       "      <th>25%</th>\n",
       "      <td>2.6400</td>\n",
       "      <td>39000.0000</td>\n",
       "    </tr>\n",
       "    <tr>\n",
       "      <th>50%</th>\n",
       "      <td>2.6400</td>\n",
       "      <td>50000.0000</td>\n",
       "    </tr>\n",
       "    <tr>\n",
       "      <th>75%</th>\n",
       "      <td>2.8000</td>\n",
       "      <td>70000.0000</td>\n",
       "    </tr>\n",
       "    <tr>\n",
       "      <th>max</th>\n",
       "      <td>320.0000</td>\n",
       "      <td>349999.0000</td>\n",
       "    </tr>\n",
       "  </tbody>\n",
       "</table>\n",
       "</div>"
      ],
      "text/plain": [
       "       ceiling_height   rent_cost\n",
       "count      10243.0000  19004.0000\n",
       "mean           2.9849  67687.8554\n",
       "std            7.9634  52970.4191\n",
       "min            1.2000   5000.0000\n",
       "25%            2.6400  39000.0000\n",
       "50%            2.6400  50000.0000\n",
       "75%            2.8000  70000.0000\n",
       "max          320.0000 349999.0000"
      ]
     },
     "execution_count": 24,
     "metadata": {},
     "output_type": "execute_result"
    }
   ],
   "source": [
    "cian.describe()"
   ]
  },
  {
   "cell_type": "markdown",
   "metadata": {},
   "source": [
    "Мы избавились менее, чем от 4% объявлений, но зато теперь наша выборка стала более равномерной. "
   ]
  },
  {
   "cell_type": "markdown",
   "metadata": {},
   "source": [
    "## rooms"
   ]
  },
  {
   "cell_type": "markdown",
   "metadata": {},
   "source": [
    "Избавляемся от пропусков в *rooms* и преобразовываем информацию в числовой тип данных"
   ]
  },
  {
   "cell_type": "code",
   "execution_count": 25,
   "metadata": {},
   "outputs": [
    {
     "data": {
      "text/plain": [
       "0.027994106503893917"
      ]
     },
     "execution_count": 25,
     "metadata": {},
     "output_type": "execute_result"
    }
   ],
   "source": [
    "cian['rooms'].isna().mean()"
   ]
  },
  {
   "cell_type": "markdown",
   "metadata": {},
   "source": [
    "Менее, чем в 3% обьявлений не указано количество комнат. Скорее всего, речь идет или о студиях или о квартирах со свободными планировками. Заполним пропуски 0."
   ]
  },
  {
   "cell_type": "code",
   "execution_count": 26,
   "metadata": {},
   "outputs": [],
   "source": [
    "cian = cian.astype({'rooms': str})\n",
    "cian['rooms'] = cian['rooms'].replace('nan', '0')"
   ]
  },
  {
   "cell_type": "code",
   "execution_count": 27,
   "metadata": {},
   "outputs": [
    {
     "data": {
      "text/plain": [
       "array(['2', '3', '4', '4, Оба варианта', '3, Изолированная',\n",
       "       '5, Изолированная', '5, Оба варианта', '2, Оба варианта',\n",
       "       '3, Оба варианта', '5', '1', '2, Изолированная', '0',\n",
       "       '4, Изолированная', '2, Смежная', '4, Смежная', '3, Смежная',\n",
       "       '1, Изолированная', '1, Оба варианта', '5, Смежная', '6',\n",
       "       '6, Оба варианта', '6, Изолированная', '6, Смежная', '1, Смежная'],\n",
       "      dtype=object)"
      ]
     },
     "execution_count": 27,
     "metadata": {},
     "output_type": "execute_result"
    }
   ],
   "source": [
    "cian['rooms'].unique()"
   ]
  },
  {
   "cell_type": "markdown",
   "metadata": {},
   "source": [
    "Разделим информацию на несколько новых столбцов: количество комнат (*:int*), тип комнаты (*:str*)"
   ]
  },
  {
   "cell_type": "code",
   "execution_count": 28,
   "metadata": {},
   "outputs": [],
   "source": [
    "cian['rooms:Q'] = [int(row.split(', ')[0]) if len(row.split(', ')[0]) == 1 else 0 for row in cian['rooms']]"
   ]
  },
  {
   "cell_type": "code",
   "execution_count": 29,
   "metadata": {},
   "outputs": [],
   "source": [
    "cian['room_type'] = [row.split(', ')[-1] if len(row.split(', ')[-1]) > 6 else 'unknown' for row in cian['rooms']]"
   ]
  },
  {
   "cell_type": "code",
   "execution_count": 30,
   "metadata": {},
   "outputs": [
    {
     "data": {
      "text/plain": [
       "0.5905598821300779"
      ]
     },
     "execution_count": 30,
     "metadata": {},
     "output_type": "execute_result"
    }
   ],
   "source": [
    "len(cian[cian['room_type'] == 'unknown']) / len(cian)"
   ]
  },
  {
   "cell_type": "markdown",
   "metadata": {},
   "source": [
    "В 60% объявлений не указан тип комнаты. Исключим этот показатель и исходный *room* из датасета"
   ]
  },
  {
   "cell_type": "code",
   "execution_count": 31,
   "metadata": {},
   "outputs": [],
   "source": [
    "cian = cian.drop(['rooms', 'room_type'], axis = 'columns')"
   ]
  },
  {
   "cell_type": "code",
   "execution_count": 32,
   "metadata": {},
   "outputs": [
    {
     "data": {
      "text/html": [
       "<div>\n",
       "<style scoped>\n",
       "    .dataframe tbody tr th:only-of-type {\n",
       "        vertical-align: middle;\n",
       "    }\n",
       "\n",
       "    .dataframe tbody tr th {\n",
       "        vertical-align: top;\n",
       "    }\n",
       "\n",
       "    .dataframe thead th {\n",
       "        text-align: right;\n",
       "    }\n",
       "</style>\n",
       "<table border=\"1\" class=\"dataframe\">\n",
       "  <thead>\n",
       "    <tr style=\"text-align: right;\">\n",
       "      <th></th>\n",
       "      <th>metro</th>\n",
       "      <th>address</th>\n",
       "      <th>area_m2</th>\n",
       "      <th>house</th>\n",
       "      <th>parking</th>\n",
       "      <th>description</th>\n",
       "      <th>renovation</th>\n",
       "      <th>rooms_area_m2</th>\n",
       "      <th>loggia</th>\n",
       "      <th>windows</th>\n",
       "      <th>bathroom</th>\n",
       "      <th>possible_with_children_pets</th>\n",
       "      <th>additionally</th>\n",
       "      <th>ceiling_height</th>\n",
       "      <th>lift</th>\n",
       "      <th>garbage_chute</th>\n",
       "      <th>rent_cost</th>\n",
       "      <th>rooms:Q</th>\n",
       "    </tr>\n",
       "  </thead>\n",
       "  <tbody>\n",
       "    <tr>\n",
       "      <th>4134</th>\n",
       "      <td>м. Минская (4 мин на машине)</td>\n",
       "      <td>Москва, Мосфильмовская улица, 8</td>\n",
       "      <td>100.0</td>\n",
       "      <td>8/53, Монолитный</td>\n",
       "      <td>подземная</td>\n",
       "      <td>Без комиссии для нанимателя! Предлагается трех...</td>\n",
       "      <td>Дизайнерский</td>\n",
       "      <td>NaN</td>\n",
       "      <td>NaN</td>\n",
       "      <td>Во двор</td>\n",
       "      <td>Совмещенный (2)</td>\n",
       "      <td>Можно с детьми, Можно с животными</td>\n",
       "      <td>Мебель в комнатах, Мебель на кухне, Ванна, Душ...</td>\n",
       "      <td>3.0000</td>\n",
       "      <td>Пасс (3)</td>\n",
       "      <td>Да</td>\n",
       "      <td>230000.0000</td>\n",
       "      <td>3</td>\n",
       "    </tr>\n",
       "    <tr>\n",
       "      <th>22011</th>\n",
       "      <td>м. Тульская (9 мин пешком)</td>\n",
       "      <td>Москва, Люсиновская улица, 60</td>\n",
       "      <td>90.0/52.0/15.0</td>\n",
       "      <td>15/15, Блочный</td>\n",
       "      <td>наземная</td>\n",
       "      <td>Сдаётся на длительный срок трёхкомнатная кварт...</td>\n",
       "      <td>Евроремонт</td>\n",
       "      <td>52</td>\n",
       "      <td>Балкон (1), Лоджия (1)</td>\n",
       "      <td>Во двор</td>\n",
       "      <td>Совмещенный (1), Раздельный (1)</td>\n",
       "      <td>Можно с детьми, Можно с животными</td>\n",
       "      <td>Мебель в комнатах, Мебель на кухне, Ванна, Душ...</td>\n",
       "      <td>NaN</td>\n",
       "      <td>Пасс (1), Груз (1)</td>\n",
       "      <td>Да</td>\n",
       "      <td>85000.0000</td>\n",
       "      <td>3</td>\n",
       "    </tr>\n",
       "  </tbody>\n",
       "</table>\n",
       "</div>"
      ],
      "text/plain": [
       "                              metro                          address  \\\n",
       "4134   м. Минская (4 мин на машине)  Москва, Мосфильмовская улица, 8   \n",
       "22011    м. Тульская (9 мин пешком)    Москва, Люсиновская улица, 60   \n",
       "\n",
       "              area_m2             house    parking  \\\n",
       "4134            100.0  8/53, Монолитный  подземная   \n",
       "22011  90.0/52.0/15.0    15/15, Блочный   наземная   \n",
       "\n",
       "                                             description    renovation  \\\n",
       "4134   Без комиссии для нанимателя! Предлагается трех...  Дизайнерский   \n",
       "22011  Сдаётся на длительный срок трёхкомнатная кварт...    Евроремонт   \n",
       "\n",
       "      rooms_area_m2                  loggia  windows  \\\n",
       "4134            NaN                     NaN  Во двор   \n",
       "22011            52  Балкон (1), Лоджия (1)  Во двор   \n",
       "\n",
       "                              bathroom        possible_with_children_pets  \\\n",
       "4134                   Совмещенный (2)  Можно с детьми, Можно с животными   \n",
       "22011  Совмещенный (1), Раздельный (1)  Можно с детьми, Можно с животными   \n",
       "\n",
       "                                            additionally  ceiling_height  \\\n",
       "4134   Мебель в комнатах, Мебель на кухне, Ванна, Душ...          3.0000   \n",
       "22011  Мебель в комнатах, Мебель на кухне, Ванна, Душ...             NaN   \n",
       "\n",
       "                     lift garbage_chute   rent_cost  rooms:Q  \n",
       "4134             Пасс (3)            Да 230000.0000        3  \n",
       "22011  Пасс (1), Груз (1)            Да  85000.0000        3  "
      ]
     },
     "execution_count": 32,
     "metadata": {},
     "output_type": "execute_result"
    }
   ],
   "source": [
    "cian.sample(2)"
   ]
  },
  {
   "cell_type": "code",
   "execution_count": 33,
   "metadata": {},
   "outputs": [
    {
     "data": {
      "text/plain": [
       "count   19004.0000\n",
       "mean        1.8888\n",
       "std         0.9444\n",
       "min         0.0000\n",
       "25%         1.0000\n",
       "50%         2.0000\n",
       "75%         2.0000\n",
       "max         6.0000\n",
       "Name: rooms:Q, dtype: float64"
      ]
     },
     "execution_count": 33,
     "metadata": {},
     "output_type": "execute_result"
    }
   ],
   "source": [
    "cian['rooms:Q'].describe()"
   ]
  },
  {
   "cell_type": "markdown",
   "metadata": {},
   "source": [
    "## metro"
   ]
  },
  {
   "cell_type": "markdown",
   "metadata": {},
   "source": [
    "Проверим количество пропущенных значений"
   ]
  },
  {
   "cell_type": "code",
   "execution_count": 34,
   "metadata": {},
   "outputs": [
    {
     "data": {
      "text/plain": [
       "0.01810145232582614"
      ]
     },
     "execution_count": 34,
     "metadata": {},
     "output_type": "execute_result"
    }
   ],
   "source": [
    "cian['metro'].isna().mean()"
   ]
  },
  {
   "cell_type": "markdown",
   "metadata": {},
   "source": [
    "Заполним пропущенные значения. Данные для заполнения будем брать из других объявлений по аналогичному адресу. "
   ]
  },
  {
   "cell_type": "code",
   "execution_count": 35,
   "metadata": {},
   "outputs": [],
   "source": [
    "cian.loc[cian[\"metro\"].isna(), \"metro\"] = cian.loc[cian[\"metro\"].isna(), \"address\"].map(cian.groupby(\"address\")[\"metro\"].first())"
   ]
  },
  {
   "cell_type": "code",
   "execution_count": 36,
   "metadata": {},
   "outputs": [
    {
     "data": {
      "text/plain": [
       "0.010945064197011155"
      ]
     },
     "execution_count": 36,
     "metadata": {},
     "output_type": "execute_result"
    }
   ],
   "source": [
    "cian['metro'].isna().mean()"
   ]
  },
  {
   "cell_type": "markdown",
   "metadata": {},
   "source": [
    "Выделим в отдельный столбец название ближайшей станции метро."
   ]
  },
  {
   "cell_type": "code",
   "execution_count": 37,
   "metadata": {},
   "outputs": [],
   "source": [
    "cian[['metro_name', 'time_to_metro']] = cian['metro'].str.split('(', expand=True)\n",
    "cian['metro_name'] = cian['metro_name'].str.strip('м. ')"
   ]
  },
  {
   "cell_type": "markdown",
   "metadata": {},
   "source": [
    "Заполним оставшиеся пропуски значением 'unknown'"
   ]
  },
  {
   "cell_type": "code",
   "execution_count": 38,
   "metadata": {},
   "outputs": [],
   "source": [
    "cian['metro_name'] = cian['metro_name'].fillna('unknown')"
   ]
  },
  {
   "cell_type": "code",
   "execution_count": 39,
   "metadata": {},
   "outputs": [
    {
     "data": {
      "text/html": [
       "<div>\n",
       "<style scoped>\n",
       "    .dataframe tbody tr th:only-of-type {\n",
       "        vertical-align: middle;\n",
       "    }\n",
       "\n",
       "    .dataframe tbody tr th {\n",
       "        vertical-align: top;\n",
       "    }\n",
       "\n",
       "    .dataframe thead th {\n",
       "        text-align: right;\n",
       "    }\n",
       "</style>\n",
       "<table border=\"1\" class=\"dataframe\">\n",
       "  <thead>\n",
       "    <tr style=\"text-align: right;\">\n",
       "      <th></th>\n",
       "      <th>metro_name</th>\n",
       "      <th>rent_cost</th>\n",
       "    </tr>\n",
       "  </thead>\n",
       "  <tbody>\n",
       "    <tr>\n",
       "      <th>269</th>\n",
       "      <td>Щербинка</td>\n",
       "      <td>30000.0000</td>\n",
       "    </tr>\n",
       "    <tr>\n",
       "      <th>0</th>\n",
       "      <td>unknown</td>\n",
       "      <td>33000.0000</td>\n",
       "    </tr>\n",
       "    <tr>\n",
       "      <th>161</th>\n",
       "      <td>Павшино</td>\n",
       "      <td>33500.0000</td>\n",
       "    </tr>\n",
       "    <tr>\n",
       "      <th>139</th>\n",
       "      <td>Некрасовка</td>\n",
       "      <td>34250.0000</td>\n",
       "    </tr>\n",
       "    <tr>\n",
       "      <th>272</th>\n",
       "      <td>Юго-Восточная</td>\n",
       "      <td>35000.0000</td>\n",
       "    </tr>\n",
       "    <tr>\n",
       "      <th>...</th>\n",
       "      <td>...</td>\n",
       "      <td>...</td>\n",
       "    </tr>\n",
       "    <tr>\n",
       "      <th>58</th>\n",
       "      <td>Деловой центр</td>\n",
       "      <td>239500.0000</td>\n",
       "    </tr>\n",
       "    <tr>\n",
       "      <th>100</th>\n",
       "      <td>Кузнецкий мост</td>\n",
       "      <td>240000.0000</td>\n",
       "    </tr>\n",
       "    <tr>\n",
       "      <th>115</th>\n",
       "      <td>Лужники</td>\n",
       "      <td>250000.0000</td>\n",
       "    </tr>\n",
       "    <tr>\n",
       "      <th>114</th>\n",
       "      <td>Лубянка</td>\n",
       "      <td>250000.0000</td>\n",
       "    </tr>\n",
       "    <tr>\n",
       "      <th>223</th>\n",
       "      <td>Тверская</td>\n",
       "      <td>280000.0000</td>\n",
       "    </tr>\n",
       "  </tbody>\n",
       "</table>\n",
       "<p>278 rows × 2 columns</p>\n",
       "</div>"
      ],
      "text/plain": [
       "         metro_name   rent_cost\n",
       "269        Щербинка  30000.0000\n",
       "0           unknown  33000.0000\n",
       "161         Павшино  33500.0000\n",
       "139      Некрасовка  34250.0000\n",
       "272   Юго-Восточная  35000.0000\n",
       "..              ...         ...\n",
       "58    Деловой центр 239500.0000\n",
       "100  Кузнецкий мост 240000.0000\n",
       "115         Лужники 250000.0000\n",
       "114         Лубянка 250000.0000\n",
       "223        Тверская 280000.0000\n",
       "\n",
       "[278 rows x 2 columns]"
      ]
     },
     "execution_count": 39,
     "metadata": {},
     "output_type": "execute_result"
    }
   ],
   "source": [
    "pd.DataFrame(cian.groupby(['metro_name'])['rent_cost'].median().round()).reset_index().sort_values(by='rent_cost')"
   ]
  },
  {
   "cell_type": "code",
   "execution_count": 40,
   "metadata": {},
   "outputs": [],
   "source": [
    "# создадим функцию для кодирования категориальных переменных через медиану\n",
    "def code_median(column):\n",
    "    return (cian[column].map(cian.groupby(column)['rent_cost'].median()))"
   ]
  },
  {
   "cell_type": "code",
   "execution_count": 41,
   "metadata": {},
   "outputs": [],
   "source": [
    "cian['metro_name_code'] = code_median('metro_name')"
   ]
  },
  {
   "cell_type": "code",
   "execution_count": 42,
   "metadata": {},
   "outputs": [
    {
     "data": {
      "text/html": [
       "<div>\n",
       "<style scoped>\n",
       "    .dataframe tbody tr th:only-of-type {\n",
       "        vertical-align: middle;\n",
       "    }\n",
       "\n",
       "    .dataframe tbody tr th {\n",
       "        vertical-align: top;\n",
       "    }\n",
       "\n",
       "    .dataframe thead th {\n",
       "        text-align: right;\n",
       "    }\n",
       "</style>\n",
       "<table border=\"1\" class=\"dataframe\">\n",
       "  <thead>\n",
       "    <tr style=\"text-align: right;\">\n",
       "      <th></th>\n",
       "      <th>metro</th>\n",
       "      <th>address</th>\n",
       "      <th>area_m2</th>\n",
       "      <th>house</th>\n",
       "      <th>parking</th>\n",
       "      <th>description</th>\n",
       "      <th>renovation</th>\n",
       "      <th>rooms_area_m2</th>\n",
       "      <th>loggia</th>\n",
       "      <th>windows</th>\n",
       "      <th>bathroom</th>\n",
       "      <th>possible_with_children_pets</th>\n",
       "      <th>additionally</th>\n",
       "      <th>ceiling_height</th>\n",
       "      <th>lift</th>\n",
       "      <th>garbage_chute</th>\n",
       "      <th>rent_cost</th>\n",
       "      <th>rooms:Q</th>\n",
       "      <th>metro_name</th>\n",
       "      <th>time_to_metro</th>\n",
       "      <th>metro_name_code</th>\n",
       "    </tr>\n",
       "  </thead>\n",
       "  <tbody>\n",
       "    <tr>\n",
       "      <th>16561</th>\n",
       "      <td>м. Академическая (8 мин пешком)</td>\n",
       "      <td>Москва, улица Шверника, 8/1К1</td>\n",
       "      <td>50.0/32.0/8.5</td>\n",
       "      <td>3/5, Блочный</td>\n",
       "      <td>наземная</td>\n",
       "      <td>Елена. Чистая, уютная квартира, укомплектована...</td>\n",
       "      <td>Косметический</td>\n",
       "      <td>20-12</td>\n",
       "      <td>Балкон (1)</td>\n",
       "      <td>На улицу</td>\n",
       "      <td>Раздельный (1)</td>\n",
       "      <td>Можно с детьми, Можно с животными</td>\n",
       "      <td>Мебель в комнатах, Мебель на кухне, Ванна, Сти...</td>\n",
       "      <td>2.9500</td>\n",
       "      <td>NaN</td>\n",
       "      <td>NaN</td>\n",
       "      <td>41000.0000</td>\n",
       "      <td>2</td>\n",
       "      <td>Академическая</td>\n",
       "      <td>8 мин пешком)</td>\n",
       "      <td>60000.0000</td>\n",
       "    </tr>\n",
       "    <tr>\n",
       "      <th>20136</th>\n",
       "      <td>м. Южная (18 мин пешком)</td>\n",
       "      <td>Москва, Чертановская улица, 32К1</td>\n",
       "      <td>74.0/52.0/10.0</td>\n",
       "      <td>1/16, Панельный</td>\n",
       "      <td>открытая</td>\n",
       "      <td>Андрей. ВСЕХ ВСЕХ ВСЕХ порядочных!!!! Квартира...</td>\n",
       "      <td>Косметический</td>\n",
       "      <td>16-18-18</td>\n",
       "      <td>NaN</td>\n",
       "      <td>Во двор</td>\n",
       "      <td>Раздельный (1)</td>\n",
       "      <td>Можно с детьми</td>\n",
       "      <td>Мебель в комнатах, Мебель на кухне, Стиральная...</td>\n",
       "      <td>3.0000</td>\n",
       "      <td>Пасс (1)</td>\n",
       "      <td>Нет</td>\n",
       "      <td>65000.0000</td>\n",
       "      <td>3</td>\n",
       "      <td>Южная</td>\n",
       "      <td>18 мин пешком)</td>\n",
       "      <td>45000.0000</td>\n",
       "    </tr>\n",
       "    <tr>\n",
       "      <th>6361</th>\n",
       "      <td>м. Селигерская (6 мин пешком)</td>\n",
       "      <td>Москва, Ильменский проезд, 17к3</td>\n",
       "      <td>35.0/14.0/11.0</td>\n",
       "      <td>11/21, Монолитный</td>\n",
       "      <td>подземная</td>\n",
       "      <td>СДАЁТСЯ ВПЕРВЫЕ!!!\\n\\nСдаётся на длительный ср...</td>\n",
       "      <td>Евроремонт</td>\n",
       "      <td>14</td>\n",
       "      <td>NaN</td>\n",
       "      <td>На улицу</td>\n",
       "      <td>Совмещенный (1)</td>\n",
       "      <td>Можно с детьми</td>\n",
       "      <td>Мебель в комнатах, Мебель на кухне, Ванна, Сти...</td>\n",
       "      <td>NaN</td>\n",
       "      <td>Пасс (1), Груз (1)</td>\n",
       "      <td>NaN</td>\n",
       "      <td>50000.0000</td>\n",
       "      <td>1</td>\n",
       "      <td>Селигерская</td>\n",
       "      <td>6 мин пешком)</td>\n",
       "      <td>43000.0000</td>\n",
       "    </tr>\n",
       "  </tbody>\n",
       "</table>\n",
       "</div>"
      ],
      "text/plain": [
       "                                 metro                           address  \\\n",
       "16561  м. Академическая (8 мин пешком)     Москва, улица Шверника, 8/1К1   \n",
       "20136         м. Южная (18 мин пешком)  Москва, Чертановская улица, 32К1   \n",
       "6361     м. Селигерская (6 мин пешком)   Москва, Ильменский проезд, 17к3   \n",
       "\n",
       "              area_m2              house    parking  \\\n",
       "16561   50.0/32.0/8.5       3/5, Блочный   наземная   \n",
       "20136  74.0/52.0/10.0    1/16, Панельный   открытая   \n",
       "6361   35.0/14.0/11.0  11/21, Монолитный  подземная   \n",
       "\n",
       "                                             description     renovation  \\\n",
       "16561  Елена. Чистая, уютная квартира, укомплектована...  Косметический   \n",
       "20136  Андрей. ВСЕХ ВСЕХ ВСЕХ порядочных!!!! Квартира...  Косметический   \n",
       "6361   СДАЁТСЯ ВПЕРВЫЕ!!!\\n\\nСдаётся на длительный ср...     Евроремонт   \n",
       "\n",
       "      rooms_area_m2      loggia   windows         bathroom  \\\n",
       "16561         20-12  Балкон (1)  На улицу   Раздельный (1)   \n",
       "20136      16-18-18         NaN   Во двор   Раздельный (1)   \n",
       "6361             14         NaN  На улицу  Совмещенный (1)   \n",
       "\n",
       "             possible_with_children_pets  \\\n",
       "16561  Можно с детьми, Можно с животными   \n",
       "20136                     Можно с детьми   \n",
       "6361                      Можно с детьми   \n",
       "\n",
       "                                            additionally  ceiling_height  \\\n",
       "16561  Мебель в комнатах, Мебель на кухне, Ванна, Сти...          2.9500   \n",
       "20136  Мебель в комнатах, Мебель на кухне, Стиральная...          3.0000   \n",
       "6361   Мебель в комнатах, Мебель на кухне, Ванна, Сти...             NaN   \n",
       "\n",
       "                     lift garbage_chute  rent_cost  rooms:Q     metro_name  \\\n",
       "16561                 NaN           NaN 41000.0000        2  Академическая   \n",
       "20136            Пасс (1)           Нет 65000.0000        3          Южная   \n",
       "6361   Пасс (1), Груз (1)           NaN 50000.0000        1    Селигерская   \n",
       "\n",
       "        time_to_metro  metro_name_code  \n",
       "16561   8 мин пешком)       60000.0000  \n",
       "20136  18 мин пешком)       45000.0000  \n",
       "6361    6 мин пешком)       43000.0000  "
      ]
     },
     "execution_count": 42,
     "metadata": {},
     "output_type": "execute_result"
    }
   ],
   "source": [
    "cian.sample(3)"
   ]
  },
  {
   "cell_type": "code",
   "execution_count": 43,
   "metadata": {},
   "outputs": [],
   "source": [
    "# удалим лишние столбцы\n",
    "cian = cian.drop(['metro', 'metro_name', 'time_to_metro'], axis = 'columns')"
   ]
  },
  {
   "cell_type": "markdown",
   "metadata": {},
   "source": [
    "## area_m2"
   ]
  },
  {
   "cell_type": "code",
   "execution_count": 44,
   "metadata": {},
   "outputs": [
    {
     "data": {
      "text/plain": [
       "40.0/20.0/10.0    214\n",
       "45.0/30.0/6.0     107\n",
       "40.0               92\n",
       "40.0/20.0/9.0      81\n",
       "38.0/20.0/10.0     76\n",
       "                 ... \n",
       "26.0/16.0/8.0       1\n",
       "31.0/17.8/7.0       1\n",
       "40.1/28.0/6.0       1\n",
       "30.0/18.4/5.6       1\n",
       "90.0/48.2/15.5      1\n",
       "Name: area_m2, Length: 9089, dtype: int64"
      ]
     },
     "execution_count": 44,
     "metadata": {},
     "output_type": "execute_result"
    }
   ],
   "source": [
    "cian['area_m2'].value_counts()"
   ]
  },
  {
   "cell_type": "markdown",
   "metadata": {},
   "source": [
    "В колонке *area_m2* оставим только общую площадь квартир ."
   ]
  },
  {
   "cell_type": "code",
   "execution_count": 45,
   "metadata": {},
   "outputs": [],
   "source": [
    "cian['area_m2'] = [float(row.split('/')[0]) for row in cian['area_m2']]"
   ]
  },
  {
   "cell_type": "code",
   "execution_count": 46,
   "metadata": {},
   "outputs": [
    {
     "data": {
      "text/plain": [
       "40.0000     1095\n",
       "45.0000      896\n",
       "38.0000      870\n",
       "35.0000      648\n",
       "60.0000      580\n",
       "            ... \n",
       "189.1000       1\n",
       "109.9000       1\n",
       "78.1000        1\n",
       "48.6000        1\n",
       "91.6000        1\n",
       "Name: area_m2, Length: 812, dtype: int64"
      ]
     },
     "execution_count": 46,
     "metadata": {},
     "output_type": "execute_result"
    }
   ],
   "source": [
    "cian['area_m2'].value_counts()"
   ]
  },
  {
   "cell_type": "markdown",
   "metadata": {},
   "source": [
    "## house"
   ]
  },
  {
   "cell_type": "markdown",
   "metadata": {},
   "source": [
    "Разделим информацию в колонке *house* на несколько новых столбцов: этаж (*:int*), этажность дома (*:int*), тип дома (*:str*)."
   ]
  },
  {
   "cell_type": "code",
   "execution_count": 47,
   "metadata": {},
   "outputs": [
    {
     "data": {
      "text/plain": [
       "3/5, Кирпичный      262\n",
       "4/5, Кирпичный      240\n",
       "2/5, Кирпичный      216\n",
       "1/5, Кирпичный      202\n",
       "5/5, Кирпичный      198\n",
       "                   ... \n",
       "6/13, Сталинский      1\n",
       "15/21, Кирпичный      1\n",
       "15/19, Кирпичный      1\n",
       "8/19, Кирпичный       1\n",
       "2/2, Блочный          1\n",
       "Name: house, Length: 2324, dtype: int64"
      ]
     },
     "execution_count": 47,
     "metadata": {},
     "output_type": "execute_result"
    }
   ],
   "source": [
    "cian['house'].value_counts()"
   ]
  },
  {
   "cell_type": "code",
   "execution_count": 48,
   "metadata": {},
   "outputs": [],
   "source": [
    "# выделим в отдельную колонку этаж квартиры\n",
    "cian['floor'] = [int(row.split('/')[0]) for row in cian['house']]"
   ]
  },
  {
   "cell_type": "code",
   "execution_count": 49,
   "metadata": {},
   "outputs": [],
   "source": [
    "# выделим в отдельную колонку этажность дома\n",
    "cian['total_floors'] = [int(row.split('/')[1].split(',')[0]) for row in cian['house']]"
   ]
  },
  {
   "cell_type": "code",
   "execution_count": 50,
   "metadata": {},
   "outputs": [],
   "source": [
    "# выделим в отдельную колонку тип дома\n",
    "cian['types'] = [row.split(', ')[-1] if len(row.split(', ')[-1]) > 6 else 'unknown' for row in cian['house']]"
   ]
  },
  {
   "cell_type": "code",
   "execution_count": 51,
   "metadata": {},
   "outputs": [
    {
     "data": {
      "text/plain": [
       "Панельный              6674\n",
       "Кирпичный              3606\n",
       "Монолитный             3428\n",
       "unknown                2667\n",
       "Блочный                1686\n",
       "Монолитно-кирпичный     747\n",
       "Сталинский              138\n",
       "старый фонд              52\n",
       "Деревянный                5\n",
       "Щитовой                   1\n",
       "Name: types, dtype: int64"
      ]
     },
     "execution_count": 51,
     "metadata": {},
     "output_type": "execute_result"
    }
   ],
   "source": [
    "cian['types'].value_counts()"
   ]
  },
  {
   "cell_type": "markdown",
   "metadata": {},
   "source": [
    "Заполним пропущенные значения. Данные для заполнения будем брать из других объявлений по аналогичному адресу. "
   ]
  },
  {
   "cell_type": "code",
   "execution_count": 52,
   "metadata": {},
   "outputs": [],
   "source": [
    "cian.loc[cian[\"types\"] == 'unknown', \"types\"] = cian.loc[cian[\"types\"] == 'unknown', \"address\"].map(cian.groupby(\"address\")[\"types\"].first())"
   ]
  },
  {
   "cell_type": "code",
   "execution_count": 53,
   "metadata": {},
   "outputs": [
    {
     "data": {
      "text/plain": [
       "Панельный              6973\n",
       "Кирпичный              3795\n",
       "Монолитный             3706\n",
       "Блочный                1731\n",
       "unknown                1713\n",
       "Монолитно-кирпичный     867\n",
       "Сталинский              148\n",
       "старый фонд              64\n",
       "Деревянный                6\n",
       "Щитовой                   1\n",
       "Name: types, dtype: int64"
      ]
     },
     "execution_count": 53,
     "metadata": {},
     "output_type": "execute_result"
    }
   ],
   "source": [
    "cian['types'].value_counts()"
   ]
  },
  {
   "cell_type": "markdown",
   "metadata": {},
   "source": [
    "Нам удалось избавиться только от части пропусков. Остальные пропущенные значения остаются unknown. Переведем типы домов на английский язык"
   ]
  },
  {
   "cell_type": "code",
   "execution_count": 54,
   "metadata": {},
   "outputs": [],
   "source": [
    "dict = {\"Панельный\": 'panel', \"Кирпичный\": 'brick', \"Монолитный\": 'monolithic',\n",
    "        \"Блочный\": 'block', \"Монолитно-кирпичный\": 'mono_brick', \"Сталинский\": 'stalin', \n",
    "        \"старый фонд\": 'old_fond', \"Деревянный\": 'wood', \"Щитовой\": 'panel'}\n",
    "cian=cian.replace({\"types\": dict})"
   ]
  },
  {
   "cell_type": "markdown",
   "metadata": {},
   "source": [
    "У переменной *house_type* очень много значений. Чтобы не утяжелять датафрейм создавая бинарные переменные, воспользуемся кодировкой. Закодируем типы домов медианной ценой (мы выбираем медиану, а не среднее, поскольку разброс цены относительно среднего арифметического очень большой и в таких ситуациях лучше ориентироваться на медиану, которая меньше искажается под действием выбросов)"
   ]
  },
  {
   "cell_type": "code",
   "execution_count": 55,
   "metadata": {},
   "outputs": [],
   "source": [
    "# создаем графики зависимости категориальных данных к цене, то есть мы хотим понимать сильно ли влияет категория на медианную стоимость аренды\n",
    "def plot_median_price(column):\n",
    "    plt.figure(figsize=(20, 4)) # определение размера графиков\n",
    "    n_bars = np.arange(len(cian[column].unique())) # массив с кол-вом уникальных значений в каждой катег колонке.\n",
    "    \n",
    "    # создание датасета по каждой колонке группируя категории по средней цене\n",
    "    grouped = pd.DataFrame(cian.groupby([column])['rent_cost'].median().round())\n",
    "    \n",
    "    plt.title(column) #  заголовок\n",
    "    plt.bar(n_bars, grouped['rent_cost']) # создание графика\n",
    "    plt.xticks(n_bars, grouped.index); # подписываем колонки\n",
    "    plt.show() # чтобы не накладывался на один график"
   ]
  },
  {
   "cell_type": "code",
   "execution_count": 56,
   "metadata": {},
   "outputs": [
    {
     "data": {
      "image/png": "[encoded data removed]",
      "text/plain": [
       "<Figure size 2000x400 with 1 Axes>"
      ]
     },
     "metadata": {},
     "output_type": "display_data"
    }
   ],
   "source": [
    "plot_median_price('types')"
   ]
  },
  {
   "cell_type": "code",
   "execution_count": 57,
   "metadata": {},
   "outputs": [
    {
     "data": {
      "text/html": [
       "<div>\n",
       "<style scoped>\n",
       "    .dataframe tbody tr th:only-of-type {\n",
       "        vertical-align: middle;\n",
       "    }\n",
       "\n",
       "    .dataframe tbody tr th {\n",
       "        vertical-align: top;\n",
       "    }\n",
       "\n",
       "    .dataframe thead th {\n",
       "        text-align: right;\n",
       "    }\n",
       "</style>\n",
       "<table border=\"1\" class=\"dataframe\">\n",
       "  <thead>\n",
       "    <tr style=\"text-align: right;\">\n",
       "      <th></th>\n",
       "      <th>types</th>\n",
       "      <th>rent_cost</th>\n",
       "    </tr>\n",
       "  </thead>\n",
       "  <tbody>\n",
       "    <tr>\n",
       "      <th>8</th>\n",
       "      <td>wood</td>\n",
       "      <td>37500.0000</td>\n",
       "    </tr>\n",
       "    <tr>\n",
       "      <th>0</th>\n",
       "      <td>block</td>\n",
       "      <td>40000.0000</td>\n",
       "    </tr>\n",
       "    <tr>\n",
       "      <th>5</th>\n",
       "      <td>panel</td>\n",
       "      <td>43000.0000</td>\n",
       "    </tr>\n",
       "    <tr>\n",
       "      <th>7</th>\n",
       "      <td>unknown</td>\n",
       "      <td>49000.0000</td>\n",
       "    </tr>\n",
       "    <tr>\n",
       "      <th>1</th>\n",
       "      <td>brick</td>\n",
       "      <td>53000.0000</td>\n",
       "    </tr>\n",
       "    <tr>\n",
       "      <th>3</th>\n",
       "      <td>monolithic</td>\n",
       "      <td>70000.0000</td>\n",
       "    </tr>\n",
       "    <tr>\n",
       "      <th>6</th>\n",
       "      <td>stalin</td>\n",
       "      <td>95000.0000</td>\n",
       "    </tr>\n",
       "    <tr>\n",
       "      <th>2</th>\n",
       "      <td>mono_brick</td>\n",
       "      <td>105200.0000</td>\n",
       "    </tr>\n",
       "    <tr>\n",
       "      <th>4</th>\n",
       "      <td>old_fond</td>\n",
       "      <td>195000.0000</td>\n",
       "    </tr>\n",
       "  </tbody>\n",
       "</table>\n",
       "</div>"
      ],
      "text/plain": [
       "        types   rent_cost\n",
       "8        wood  37500.0000\n",
       "0       block  40000.0000\n",
       "5       panel  43000.0000\n",
       "7     unknown  49000.0000\n",
       "1       brick  53000.0000\n",
       "3  monolithic  70000.0000\n",
       "6      stalin  95000.0000\n",
       "2  mono_brick 105200.0000\n",
       "4    old_fond 195000.0000"
      ]
     },
     "execution_count": 57,
     "metadata": {},
     "output_type": "execute_result"
    }
   ],
   "source": [
    "pd.DataFrame(cian.groupby(['types'])['rent_cost'].median().round()).reset_index().sort_values(by='rent_cost')"
   ]
  },
  {
   "cell_type": "code",
   "execution_count": 58,
   "metadata": {},
   "outputs": [],
   "source": [
    "cian['house_type'] = code_median('types')"
   ]
  },
  {
   "cell_type": "code",
   "execution_count": 59,
   "metadata": {},
   "outputs": [],
   "source": [
    "# удалим столбцы types и house\n",
    "cian = cian.drop(['types', 'house'], axis = 'columns')"
   ]
  },
  {
   "cell_type": "code",
   "execution_count": 60,
   "metadata": {},
   "outputs": [
    {
     "data": {
      "text/html": [
       "<div>\n",
       "<style scoped>\n",
       "    .dataframe tbody tr th:only-of-type {\n",
       "        vertical-align: middle;\n",
       "    }\n",
       "\n",
       "    .dataframe tbody tr th {\n",
       "        vertical-align: top;\n",
       "    }\n",
       "\n",
       "    .dataframe thead th {\n",
       "        text-align: right;\n",
       "    }\n",
       "</style>\n",
       "<table border=\"1\" class=\"dataframe\">\n",
       "  <thead>\n",
       "    <tr style=\"text-align: right;\">\n",
       "      <th></th>\n",
       "      <th>address</th>\n",
       "      <th>area_m2</th>\n",
       "      <th>parking</th>\n",
       "      <th>description</th>\n",
       "      <th>renovation</th>\n",
       "      <th>rooms_area_m2</th>\n",
       "      <th>loggia</th>\n",
       "      <th>windows</th>\n",
       "      <th>bathroom</th>\n",
       "      <th>possible_with_children_pets</th>\n",
       "      <th>additionally</th>\n",
       "      <th>ceiling_height</th>\n",
       "      <th>lift</th>\n",
       "      <th>garbage_chute</th>\n",
       "      <th>rent_cost</th>\n",
       "      <th>rooms:Q</th>\n",
       "      <th>metro_name_code</th>\n",
       "      <th>floor</th>\n",
       "      <th>total_floors</th>\n",
       "      <th>house_type</th>\n",
       "    </tr>\n",
       "  </thead>\n",
       "  <tbody>\n",
       "    <tr>\n",
       "      <th>4</th>\n",
       "      <td>Москва, улица Новый Арбат, 15</td>\n",
       "      <td>58.0000</td>\n",
       "      <td>NaN</td>\n",
       "      <td>Лот 111542. Татьяна Лучкина.\\n\\nБонус агенту 5...</td>\n",
       "      <td>Евроремонт</td>\n",
       "      <td>20 18</td>\n",
       "      <td>NaN</td>\n",
       "      <td>На улицу и двор</td>\n",
       "      <td>Совмещенный (2)</td>\n",
       "      <td>NaN</td>\n",
       "      <td>Мебель в комнатах, Мебель на кухне, Ванна, Душ...</td>\n",
       "      <td>3.9000</td>\n",
       "      <td>Пасс (1), Груз (1)</td>\n",
       "      <td>Да</td>\n",
       "      <td>225000.0000</td>\n",
       "      <td>2</td>\n",
       "      <td>190000.0000</td>\n",
       "      <td>12</td>\n",
       "      <td>26</td>\n",
       "      <td>43000.0000</td>\n",
       "    </tr>\n",
       "    <tr>\n",
       "      <th>7</th>\n",
       "      <td>Москва, улица Арбат, 43С3</td>\n",
       "      <td>98.0000</td>\n",
       "      <td>подземная</td>\n",
       "      <td>Лот 112453. Ирина Панченко.\\n\\nБонус агенту 40...</td>\n",
       "      <td>Евроремонт</td>\n",
       "      <td>26 22 15</td>\n",
       "      <td>NaN</td>\n",
       "      <td>Во двор</td>\n",
       "      <td>Совмещенный (1), Раздельный (1)</td>\n",
       "      <td>Можно с детьми, Можно с животными</td>\n",
       "      <td>Мебель в комнатах, Мебель на кухне, Ванна, Душ...</td>\n",
       "      <td>3.2000</td>\n",
       "      <td>Пасс (1)</td>\n",
       "      <td>Нет</td>\n",
       "      <td>250000.0000</td>\n",
       "      <td>3</td>\n",
       "      <td>170000.0000</td>\n",
       "      <td>2</td>\n",
       "      <td>4</td>\n",
       "      <td>70000.0000</td>\n",
       "    </tr>\n",
       "    <tr>\n",
       "      <th>8</th>\n",
       "      <td>Москва, Новинский бульвар, 18С1</td>\n",
       "      <td>120.0000</td>\n",
       "      <td>открытая</td>\n",
       "      <td>Лот 71833. Евгений Николаев.\\n\\nБонус агенту 1...</td>\n",
       "      <td>Евроремонт</td>\n",
       "      <td>45 25 25</td>\n",
       "      <td>NaN</td>\n",
       "      <td>На улицу</td>\n",
       "      <td>Совмещенный (1)</td>\n",
       "      <td>Можно с животными</td>\n",
       "      <td>Мебель на кухне, Ванна, Стиральная машина, Кон...</td>\n",
       "      <td>3.0000</td>\n",
       "      <td>Пасс (1)</td>\n",
       "      <td>Нет</td>\n",
       "      <td>130000.0000</td>\n",
       "      <td>3</td>\n",
       "      <td>170000.0000</td>\n",
       "      <td>5</td>\n",
       "      <td>10</td>\n",
       "      <td>95000.0000</td>\n",
       "    </tr>\n",
       "  </tbody>\n",
       "</table>\n",
       "</div>"
      ],
      "text/plain": [
       "                           address  area_m2    parking  \\\n",
       "4    Москва, улица Новый Арбат, 15  58.0000        NaN   \n",
       "7        Москва, улица Арбат, 43С3  98.0000  подземная   \n",
       "8  Москва, Новинский бульвар, 18С1 120.0000   открытая   \n",
       "\n",
       "                                         description  renovation  \\\n",
       "4  Лот 111542. Татьяна Лучкина.\\n\\nБонус агенту 5...  Евроремонт   \n",
       "7  Лот 112453. Ирина Панченко.\\n\\nБонус агенту 40...  Евроремонт   \n",
       "8  Лот 71833. Евгений Николаев.\\n\\nБонус агенту 1...  Евроремонт   \n",
       "\n",
       "  rooms_area_m2 loggia          windows                         bathroom  \\\n",
       "4         20 18    NaN  На улицу и двор                  Совмещенный (2)   \n",
       "7      26 22 15    NaN          Во двор  Совмещенный (1), Раздельный (1)   \n",
       "8      45 25 25    NaN         На улицу                  Совмещенный (1)   \n",
       "\n",
       "         possible_with_children_pets  \\\n",
       "4                                NaN   \n",
       "7  Можно с детьми, Можно с животными   \n",
       "8                  Можно с животными   \n",
       "\n",
       "                                        additionally  ceiling_height  \\\n",
       "4  Мебель в комнатах, Мебель на кухне, Ванна, Душ...          3.9000   \n",
       "7  Мебель в комнатах, Мебель на кухне, Ванна, Душ...          3.2000   \n",
       "8  Мебель на кухне, Ванна, Стиральная машина, Кон...          3.0000   \n",
       "\n",
       "                 lift garbage_chute   rent_cost  rooms:Q  metro_name_code  \\\n",
       "4  Пасс (1), Груз (1)            Да 225000.0000        2      190000.0000   \n",
       "7            Пасс (1)           Нет 250000.0000        3      170000.0000   \n",
       "8            Пасс (1)           Нет 130000.0000        3      170000.0000   \n",
       "\n",
       "   floor  total_floors  house_type  \n",
       "4     12            26  43000.0000  \n",
       "7      2             4  70000.0000  \n",
       "8      5            10  95000.0000  "
      ]
     },
     "execution_count": 60,
     "metadata": {},
     "output_type": "execute_result"
    }
   ],
   "source": [
    "cian.head(3)"
   ]
  },
  {
   "cell_type": "markdown",
   "metadata": {},
   "source": [
    "## parking"
   ]
  },
  {
   "cell_type": "code",
   "execution_count": 61,
   "metadata": {},
   "outputs": [
    {
     "data": {
      "text/plain": [
       "наземная          5202\n",
       "подземная         2190\n",
       "открытая           693\n",
       "многоуровневая      98\n",
       "на крыше             1\n",
       "Name: parking, dtype: int64"
      ]
     },
     "execution_count": 61,
     "metadata": {},
     "output_type": "execute_result"
    }
   ],
   "source": [
    "cian['parking'].value_counts()"
   ]
  },
  {
   "cell_type": "code",
   "execution_count": 62,
   "metadata": {},
   "outputs": [
    {
     "data": {
      "text/plain": [
       "0.5693538202483688"
      ]
     },
     "execution_count": 62,
     "metadata": {},
     "output_type": "execute_result"
    }
   ],
   "source": [
    "cian['parking'].isna().mean()"
   ]
  },
  {
   "cell_type": "markdown",
   "metadata": {},
   "source": [
    "Заполним недостающие значения. Данные для заполнения будем брать из других объявлений по аналогичному адресу. Оставшиеся пропуски заполним значением \"наземная\" (поскольку как минимум наземная парковка всегда есть).\n",
    "\n",
    "Переведем категориальные значения в булевые (0 - открытая парковка, 1 - закрытая)."
   ]
  },
  {
   "cell_type": "code",
   "execution_count": 63,
   "metadata": {},
   "outputs": [],
   "source": [
    "cian.loc[cian[\"parking\"].isna(), \"parking\"] = cian.loc[cian[\"parking\"].isna(), \"address\"].map(cian.groupby(\"address\")[\"parking\"].first())"
   ]
  },
  {
   "cell_type": "code",
   "execution_count": 64,
   "metadata": {},
   "outputs": [],
   "source": [
    "cian['parking'] = cian['parking'].fillna('наземная')"
   ]
  },
  {
   "cell_type": "code",
   "execution_count": 65,
   "metadata": {},
   "outputs": [],
   "source": [
    "dict = {\"наземная\": 0, \"подземная\": 1, \"открытая\": 0, \"многоуровневая\": 1, \"на крыше\": 1}\n",
    "cian=cian.replace({\"parking\": dict})"
   ]
  },
  {
   "cell_type": "code",
   "execution_count": 66,
   "metadata": {},
   "outputs": [
    {
     "data": {
      "text/html": [
       "<div>\n",
       "<style scoped>\n",
       "    .dataframe tbody tr th:only-of-type {\n",
       "        vertical-align: middle;\n",
       "    }\n",
       "\n",
       "    .dataframe tbody tr th {\n",
       "        vertical-align: top;\n",
       "    }\n",
       "\n",
       "    .dataframe thead th {\n",
       "        text-align: right;\n",
       "    }\n",
       "</style>\n",
       "<table border=\"1\" class=\"dataframe\">\n",
       "  <thead>\n",
       "    <tr style=\"text-align: right;\">\n",
       "      <th></th>\n",
       "      <th>address</th>\n",
       "      <th>area_m2</th>\n",
       "      <th>parking</th>\n",
       "      <th>description</th>\n",
       "      <th>renovation</th>\n",
       "      <th>rooms_area_m2</th>\n",
       "      <th>loggia</th>\n",
       "      <th>windows</th>\n",
       "      <th>bathroom</th>\n",
       "      <th>possible_with_children_pets</th>\n",
       "      <th>additionally</th>\n",
       "      <th>ceiling_height</th>\n",
       "      <th>lift</th>\n",
       "      <th>garbage_chute</th>\n",
       "      <th>rent_cost</th>\n",
       "      <th>rooms:Q</th>\n",
       "      <th>metro_name_code</th>\n",
       "      <th>floor</th>\n",
       "      <th>total_floors</th>\n",
       "      <th>house_type</th>\n",
       "    </tr>\n",
       "  </thead>\n",
       "  <tbody>\n",
       "    <tr>\n",
       "      <th>4</th>\n",
       "      <td>Москва, улица Новый Арбат, 15</td>\n",
       "      <td>58.0000</td>\n",
       "      <td>0</td>\n",
       "      <td>Лот 111542. Татьяна Лучкина.\\n\\nБонус агенту 5...</td>\n",
       "      <td>Евроремонт</td>\n",
       "      <td>20 18</td>\n",
       "      <td>NaN</td>\n",
       "      <td>На улицу и двор</td>\n",
       "      <td>Совмещенный (2)</td>\n",
       "      <td>NaN</td>\n",
       "      <td>Мебель в комнатах, Мебель на кухне, Ванна, Душ...</td>\n",
       "      <td>3.9000</td>\n",
       "      <td>Пасс (1), Груз (1)</td>\n",
       "      <td>Да</td>\n",
       "      <td>225000.0000</td>\n",
       "      <td>2</td>\n",
       "      <td>190000.0000</td>\n",
       "      <td>12</td>\n",
       "      <td>26</td>\n",
       "      <td>43000.0000</td>\n",
       "    </tr>\n",
       "    <tr>\n",
       "      <th>7</th>\n",
       "      <td>Москва, улица Арбат, 43С3</td>\n",
       "      <td>98.0000</td>\n",
       "      <td>1</td>\n",
       "      <td>Лот 112453. Ирина Панченко.\\n\\nБонус агенту 40...</td>\n",
       "      <td>Евроремонт</td>\n",
       "      <td>26 22 15</td>\n",
       "      <td>NaN</td>\n",
       "      <td>Во двор</td>\n",
       "      <td>Совмещенный (1), Раздельный (1)</td>\n",
       "      <td>Можно с детьми, Можно с животными</td>\n",
       "      <td>Мебель в комнатах, Мебель на кухне, Ванна, Душ...</td>\n",
       "      <td>3.2000</td>\n",
       "      <td>Пасс (1)</td>\n",
       "      <td>Нет</td>\n",
       "      <td>250000.0000</td>\n",
       "      <td>3</td>\n",
       "      <td>170000.0000</td>\n",
       "      <td>2</td>\n",
       "      <td>4</td>\n",
       "      <td>70000.0000</td>\n",
       "    </tr>\n",
       "    <tr>\n",
       "      <th>8</th>\n",
       "      <td>Москва, Новинский бульвар, 18С1</td>\n",
       "      <td>120.0000</td>\n",
       "      <td>0</td>\n",
       "      <td>Лот 71833. Евгений Николаев.\\n\\nБонус агенту 1...</td>\n",
       "      <td>Евроремонт</td>\n",
       "      <td>45 25 25</td>\n",
       "      <td>NaN</td>\n",
       "      <td>На улицу</td>\n",
       "      <td>Совмещенный (1)</td>\n",
       "      <td>Можно с животными</td>\n",
       "      <td>Мебель на кухне, Ванна, Стиральная машина, Кон...</td>\n",
       "      <td>3.0000</td>\n",
       "      <td>Пасс (1)</td>\n",
       "      <td>Нет</td>\n",
       "      <td>130000.0000</td>\n",
       "      <td>3</td>\n",
       "      <td>170000.0000</td>\n",
       "      <td>5</td>\n",
       "      <td>10</td>\n",
       "      <td>95000.0000</td>\n",
       "    </tr>\n",
       "  </tbody>\n",
       "</table>\n",
       "</div>"
      ],
      "text/plain": [
       "                           address  area_m2  parking  \\\n",
       "4    Москва, улица Новый Арбат, 15  58.0000        0   \n",
       "7        Москва, улица Арбат, 43С3  98.0000        1   \n",
       "8  Москва, Новинский бульвар, 18С1 120.0000        0   \n",
       "\n",
       "                                         description  renovation  \\\n",
       "4  Лот 111542. Татьяна Лучкина.\\n\\nБонус агенту 5...  Евроремонт   \n",
       "7  Лот 112453. Ирина Панченко.\\n\\nБонус агенту 40...  Евроремонт   \n",
       "8  Лот 71833. Евгений Николаев.\\n\\nБонус агенту 1...  Евроремонт   \n",
       "\n",
       "  rooms_area_m2 loggia          windows                         bathroom  \\\n",
       "4         20 18    NaN  На улицу и двор                  Совмещенный (2)   \n",
       "7      26 22 15    NaN          Во двор  Совмещенный (1), Раздельный (1)   \n",
       "8      45 25 25    NaN         На улицу                  Совмещенный (1)   \n",
       "\n",
       "         possible_with_children_pets  \\\n",
       "4                                NaN   \n",
       "7  Можно с детьми, Можно с животными   \n",
       "8                  Можно с животными   \n",
       "\n",
       "                                        additionally  ceiling_height  \\\n",
       "4  Мебель в комнатах, Мебель на кухне, Ванна, Душ...          3.9000   \n",
       "7  Мебель в комнатах, Мебель на кухне, Ванна, Душ...          3.2000   \n",
       "8  Мебель на кухне, Ванна, Стиральная машина, Кон...          3.0000   \n",
       "\n",
       "                 lift garbage_chute   rent_cost  rooms:Q  metro_name_code  \\\n",
       "4  Пасс (1), Груз (1)            Да 225000.0000        2      190000.0000   \n",
       "7            Пасс (1)           Нет 250000.0000        3      170000.0000   \n",
       "8            Пасс (1)           Нет 130000.0000        3      170000.0000   \n",
       "\n",
       "   floor  total_floors  house_type  \n",
       "4     12            26  43000.0000  \n",
       "7      2             4  70000.0000  \n",
       "8      5            10  95000.0000  "
      ]
     },
     "execution_count": 66,
     "metadata": {},
     "output_type": "execute_result"
    }
   ],
   "source": [
    "cian.head(3)"
   ]
  },
  {
   "cell_type": "markdown",
   "metadata": {},
   "source": [
    "## renovation"
   ]
  },
  {
   "cell_type": "code",
   "execution_count": 67,
   "metadata": {},
   "outputs": [
    {
     "data": {
      "text/plain": [
       "0.12460534624289624"
      ]
     },
     "execution_count": 67,
     "metadata": {},
     "output_type": "execute_result"
    }
   ],
   "source": [
    "cian['renovation'].isna().mean()"
   ]
  },
  {
   "cell_type": "code",
   "execution_count": 68,
   "metadata": {},
   "outputs": [],
   "source": [
    "cian['renovation'] = cian['renovation'].fillna('unknown')"
   ]
  },
  {
   "cell_type": "code",
   "execution_count": 69,
   "metadata": {},
   "outputs": [
    {
     "data": {
      "text/plain": [
       "Косметический    7335\n",
       "Евроремонт       6757\n",
       "Дизайнерский     2412\n",
       "unknown          2368\n",
       "Без ремонта       132\n",
       "Name: renovation, dtype: int64"
      ]
     },
     "execution_count": 69,
     "metadata": {},
     "output_type": "execute_result"
    }
   ],
   "source": [
    "cian['renovation'].value_counts()"
   ]
  },
  {
   "cell_type": "code",
   "execution_count": 70,
   "metadata": {},
   "outputs": [
    {
     "data": {
      "image/png": "[encoded data removed]",
      "text/plain": [
       "<Figure size 2000x400 with 1 Axes>"
      ]
     },
     "metadata": {},
     "output_type": "display_data"
    }
   ],
   "source": [
    "# посморим как распределяется средняя цена между категориями\n",
    "plot_median_price('renovation')"
   ]
  },
  {
   "cell_type": "code",
   "execution_count": 71,
   "metadata": {},
   "outputs": [
    {
     "data": {
      "text/html": [
       "<div>\n",
       "<style scoped>\n",
       "    .dataframe tbody tr th:only-of-type {\n",
       "        vertical-align: middle;\n",
       "    }\n",
       "\n",
       "    .dataframe tbody tr th {\n",
       "        vertical-align: top;\n",
       "    }\n",
       "\n",
       "    .dataframe thead th {\n",
       "        text-align: right;\n",
       "    }\n",
       "</style>\n",
       "<table border=\"1\" class=\"dataframe\">\n",
       "  <thead>\n",
       "    <tr style=\"text-align: right;\">\n",
       "      <th></th>\n",
       "      <th>renovation</th>\n",
       "      <th>rent_cost</th>\n",
       "    </tr>\n",
       "  </thead>\n",
       "  <tbody>\n",
       "    <tr>\n",
       "      <th>0</th>\n",
       "      <td>unknown</td>\n",
       "      <td>74647.0000</td>\n",
       "    </tr>\n",
       "    <tr>\n",
       "      <th>1</th>\n",
       "      <td>Без ремонта</td>\n",
       "      <td>44663.0000</td>\n",
       "    </tr>\n",
       "    <tr>\n",
       "      <th>2</th>\n",
       "      <td>Дизайнерский</td>\n",
       "      <td>114099.0000</td>\n",
       "    </tr>\n",
       "    <tr>\n",
       "      <th>3</th>\n",
       "      <td>Евроремонт</td>\n",
       "      <td>74358.0000</td>\n",
       "    </tr>\n",
       "    <tr>\n",
       "      <th>4</th>\n",
       "      <td>Косметический</td>\n",
       "      <td>44450.0000</td>\n",
       "    </tr>\n",
       "  </tbody>\n",
       "</table>\n",
       "</div>"
      ],
      "text/plain": [
       "      renovation   rent_cost\n",
       "0        unknown  74647.0000\n",
       "1    Без ремонта  44663.0000\n",
       "2   Дизайнерский 114099.0000\n",
       "3     Евроремонт  74358.0000\n",
       "4  Косметический  44450.0000"
      ]
     },
     "execution_count": 71,
     "metadata": {},
     "output_type": "execute_result"
    }
   ],
   "source": [
    "pd.DataFrame(cian.groupby(['renovation'])['rent_cost'].mean().round()).reset_index()"
   ]
  },
  {
   "cell_type": "code",
   "execution_count": 72,
   "metadata": {},
   "outputs": [
    {
     "data": {
      "text/html": [
       "<div>\n",
       "<style scoped>\n",
       "    .dataframe tbody tr th:only-of-type {\n",
       "        vertical-align: middle;\n",
       "    }\n",
       "\n",
       "    .dataframe tbody tr th {\n",
       "        vertical-align: top;\n",
       "    }\n",
       "\n",
       "    .dataframe thead th {\n",
       "        text-align: right;\n",
       "    }\n",
       "</style>\n",
       "<table border=\"1\" class=\"dataframe\">\n",
       "  <thead>\n",
       "    <tr style=\"text-align: right;\">\n",
       "      <th></th>\n",
       "      <th>renovation</th>\n",
       "      <th>rent_cost</th>\n",
       "    </tr>\n",
       "  </thead>\n",
       "  <tbody>\n",
       "    <tr>\n",
       "      <th>0</th>\n",
       "      <td>unknown</td>\n",
       "      <td>55000.0000</td>\n",
       "    </tr>\n",
       "    <tr>\n",
       "      <th>1</th>\n",
       "      <td>Без ремонта</td>\n",
       "      <td>35000.0000</td>\n",
       "    </tr>\n",
       "    <tr>\n",
       "      <th>2</th>\n",
       "      <td>Дизайнерский</td>\n",
       "      <td>90000.0000</td>\n",
       "    </tr>\n",
       "    <tr>\n",
       "      <th>3</th>\n",
       "      <td>Евроремонт</td>\n",
       "      <td>55000.0000</td>\n",
       "    </tr>\n",
       "    <tr>\n",
       "      <th>4</th>\n",
       "      <td>Косметический</td>\n",
       "      <td>40000.0000</td>\n",
       "    </tr>\n",
       "  </tbody>\n",
       "</table>\n",
       "</div>"
      ],
      "text/plain": [
       "      renovation  rent_cost\n",
       "0        unknown 55000.0000\n",
       "1    Без ремонта 35000.0000\n",
       "2   Дизайнерский 90000.0000\n",
       "3     Евроремонт 55000.0000\n",
       "4  Косметический 40000.0000"
      ]
     },
     "execution_count": 72,
     "metadata": {},
     "output_type": "execute_result"
    }
   ],
   "source": [
    "pd.DataFrame(cian.groupby(['renovation'])['rent_cost'].median().round()).reset_index()"
   ]
  },
  {
   "cell_type": "markdown",
   "metadata": {},
   "source": [
    "Несмотря на то, что в переменной *renovation* представлено 5 категорий включая пропуски, в целом можно выделить только 3 ярко выраженных уровня цены: самые дорогие квартиры с дизайнерским ремонтом, ко второму сегменту относятся квартиры с евроремонтом и пропущенные данные и дешевле всего квартиры с косметическим ремонтом или вовсе без него."
   ]
  },
  {
   "cell_type": "code",
   "execution_count": 73,
   "metadata": {},
   "outputs": [],
   "source": [
    "# закодируем renovation через медиану\n",
    "cian['renovation_type'] = code_median('renovation')"
   ]
  },
  {
   "cell_type": "code",
   "execution_count": 74,
   "metadata": {},
   "outputs": [
    {
     "data": {
      "text/html": [
       "<div>\n",
       "<style scoped>\n",
       "    .dataframe tbody tr th:only-of-type {\n",
       "        vertical-align: middle;\n",
       "    }\n",
       "\n",
       "    .dataframe tbody tr th {\n",
       "        vertical-align: top;\n",
       "    }\n",
       "\n",
       "    .dataframe thead th {\n",
       "        text-align: right;\n",
       "    }\n",
       "</style>\n",
       "<table border=\"1\" class=\"dataframe\">\n",
       "  <thead>\n",
       "    <tr style=\"text-align: right;\">\n",
       "      <th></th>\n",
       "      <th>address</th>\n",
       "      <th>area_m2</th>\n",
       "      <th>parking</th>\n",
       "      <th>description</th>\n",
       "      <th>rooms_area_m2</th>\n",
       "      <th>loggia</th>\n",
       "      <th>windows</th>\n",
       "      <th>bathroom</th>\n",
       "      <th>possible_with_children_pets</th>\n",
       "      <th>additionally</th>\n",
       "      <th>ceiling_height</th>\n",
       "      <th>lift</th>\n",
       "      <th>garbage_chute</th>\n",
       "      <th>rent_cost</th>\n",
       "      <th>rooms:Q</th>\n",
       "      <th>metro_name_code</th>\n",
       "      <th>floor</th>\n",
       "      <th>total_floors</th>\n",
       "      <th>house_type</th>\n",
       "      <th>renovation_type</th>\n",
       "    </tr>\n",
       "  </thead>\n",
       "  <tbody>\n",
       "    <tr>\n",
       "      <th>4</th>\n",
       "      <td>Москва, улица Новый Арбат, 15</td>\n",
       "      <td>58.0000</td>\n",
       "      <td>0</td>\n",
       "      <td>Лот 111542. Татьяна Лучкина.\\n\\nБонус агенту 5...</td>\n",
       "      <td>20 18</td>\n",
       "      <td>NaN</td>\n",
       "      <td>На улицу и двор</td>\n",
       "      <td>Совмещенный (2)</td>\n",
       "      <td>NaN</td>\n",
       "      <td>Мебель в комнатах, Мебель на кухне, Ванна, Душ...</td>\n",
       "      <td>3.9000</td>\n",
       "      <td>Пасс (1), Груз (1)</td>\n",
       "      <td>Да</td>\n",
       "      <td>225000.0000</td>\n",
       "      <td>2</td>\n",
       "      <td>190000.0000</td>\n",
       "      <td>12</td>\n",
       "      <td>26</td>\n",
       "      <td>43000.0000</td>\n",
       "      <td>55000.0000</td>\n",
       "    </tr>\n",
       "    <tr>\n",
       "      <th>7</th>\n",
       "      <td>Москва, улица Арбат, 43С3</td>\n",
       "      <td>98.0000</td>\n",
       "      <td>1</td>\n",
       "      <td>Лот 112453. Ирина Панченко.\\n\\nБонус агенту 40...</td>\n",
       "      <td>26 22 15</td>\n",
       "      <td>NaN</td>\n",
       "      <td>Во двор</td>\n",
       "      <td>Совмещенный (1), Раздельный (1)</td>\n",
       "      <td>Можно с детьми, Можно с животными</td>\n",
       "      <td>Мебель в комнатах, Мебель на кухне, Ванна, Душ...</td>\n",
       "      <td>3.2000</td>\n",
       "      <td>Пасс (1)</td>\n",
       "      <td>Нет</td>\n",
       "      <td>250000.0000</td>\n",
       "      <td>3</td>\n",
       "      <td>170000.0000</td>\n",
       "      <td>2</td>\n",
       "      <td>4</td>\n",
       "      <td>70000.0000</td>\n",
       "      <td>55000.0000</td>\n",
       "    </tr>\n",
       "    <tr>\n",
       "      <th>8</th>\n",
       "      <td>Москва, Новинский бульвар, 18С1</td>\n",
       "      <td>120.0000</td>\n",
       "      <td>0</td>\n",
       "      <td>Лот 71833. Евгений Николаев.\\n\\nБонус агенту 1...</td>\n",
       "      <td>45 25 25</td>\n",
       "      <td>NaN</td>\n",
       "      <td>На улицу</td>\n",
       "      <td>Совмещенный (1)</td>\n",
       "      <td>Можно с животными</td>\n",
       "      <td>Мебель на кухне, Ванна, Стиральная машина, Кон...</td>\n",
       "      <td>3.0000</td>\n",
       "      <td>Пасс (1)</td>\n",
       "      <td>Нет</td>\n",
       "      <td>130000.0000</td>\n",
       "      <td>3</td>\n",
       "      <td>170000.0000</td>\n",
       "      <td>5</td>\n",
       "      <td>10</td>\n",
       "      <td>95000.0000</td>\n",
       "      <td>55000.0000</td>\n",
       "    </tr>\n",
       "  </tbody>\n",
       "</table>\n",
       "</div>"
      ],
      "text/plain": [
       "                           address  area_m2  parking  \\\n",
       "4    Москва, улица Новый Арбат, 15  58.0000        0   \n",
       "7        Москва, улица Арбат, 43С3  98.0000        1   \n",
       "8  Москва, Новинский бульвар, 18С1 120.0000        0   \n",
       "\n",
       "                                         description rooms_area_m2 loggia  \\\n",
       "4  Лот 111542. Татьяна Лучкина.\\n\\nБонус агенту 5...         20 18    NaN   \n",
       "7  Лот 112453. Ирина Панченко.\\n\\nБонус агенту 40...      26 22 15    NaN   \n",
       "8  Лот 71833. Евгений Николаев.\\n\\nБонус агенту 1...      45 25 25    NaN   \n",
       "\n",
       "           windows                         bathroom  \\\n",
       "4  На улицу и двор                  Совмещенный (2)   \n",
       "7          Во двор  Совмещенный (1), Раздельный (1)   \n",
       "8         На улицу                  Совмещенный (1)   \n",
       "\n",
       "         possible_with_children_pets  \\\n",
       "4                                NaN   \n",
       "7  Можно с детьми, Можно с животными   \n",
       "8                  Можно с животными   \n",
       "\n",
       "                                        additionally  ceiling_height  \\\n",
       "4  Мебель в комнатах, Мебель на кухне, Ванна, Душ...          3.9000   \n",
       "7  Мебель в комнатах, Мебель на кухне, Ванна, Душ...          3.2000   \n",
       "8  Мебель на кухне, Ванна, Стиральная машина, Кон...          3.0000   \n",
       "\n",
       "                 lift garbage_chute   rent_cost  rooms:Q  metro_name_code  \\\n",
       "4  Пасс (1), Груз (1)            Да 225000.0000        2      190000.0000   \n",
       "7            Пасс (1)           Нет 250000.0000        3      170000.0000   \n",
       "8            Пасс (1)           Нет 130000.0000        3      170000.0000   \n",
       "\n",
       "   floor  total_floors  house_type  renovation_type  \n",
       "4     12            26  43000.0000       55000.0000  \n",
       "7      2             4  70000.0000       55000.0000  \n",
       "8      5            10  95000.0000       55000.0000  "
      ]
     },
     "execution_count": 74,
     "metadata": {},
     "output_type": "execute_result"
    }
   ],
   "source": [
    "# удалим столбец renovation\n",
    "cian = cian.drop(['renovation'], axis = 'columns')\n",
    "cian.head(3)"
   ]
  },
  {
   "cell_type": "markdown",
   "metadata": {},
   "source": [
    "## rooms_area_m2"
   ]
  },
  {
   "cell_type": "code",
   "execution_count": 75,
   "metadata": {},
   "outputs": [
    {
     "data": {
      "text/plain": [
       "0.3578720269416965"
      ]
     },
     "execution_count": 75,
     "metadata": {},
     "output_type": "execute_result"
    }
   ],
   "source": [
    "cian['rooms_area_m2'].isna().mean()"
   ]
  },
  {
   "cell_type": "markdown",
   "metadata": {},
   "source": [
    "Отсутствует более трети значений, при этом исходя из имеющейся информации не представляется возможным ее заполнить. Удалим столбец из датасета"
   ]
  },
  {
   "cell_type": "code",
   "execution_count": 76,
   "metadata": {},
   "outputs": [],
   "source": [
    "cian = cian.drop(['rooms_area_m2'], axis = 'columns')"
   ]
  },
  {
   "cell_type": "markdown",
   "metadata": {},
   "source": [
    "### bathroom"
   ]
  },
  {
   "cell_type": "markdown",
   "metadata": {},
   "source": [
    "Напишем функцию для разделения данных на несколько колонок"
   ]
  },
  {
   "cell_type": "code",
   "execution_count": 77,
   "metadata": {},
   "outputs": [],
   "source": [
    "def spliter(s, classes):\n",
    "    count = [0 for i in range(len(classes))]\n",
    "    for i, value in enumerate(classes):\n",
    "        ind = s.find(value)\n",
    "        if ind != -1:\n",
    "            count[i] = s[ind + len(value) + 2]\n",
    "    return count\n",
    "\n",
    "\n",
    "def to_categorical(df, col, classes, classes_eng = None):\n",
    "    series = df[col]\n",
    "    if classes_eng is None:\n",
    "        classes_eng = classes\n",
    "    class_array = series.map(lambda x: spliter(str(x), classes))\n",
    "    for ind, classname in enumerate(classes_eng):\n",
    "        df[classname] = class_array.map(lambda x: x[ind])\n",
    "    return df"
   ]
  },
  {
   "cell_type": "code",
   "execution_count": 78,
   "metadata": {},
   "outputs": [],
   "source": [
    "cian = to_categorical(cian, 'bathroom', ('Совмещенный', 'Раздельный'), ('combined_n', 'divided_n'))"
   ]
  },
  {
   "cell_type": "code",
   "execution_count": 79,
   "metadata": {},
   "outputs": [],
   "source": [
    "cian['combined_n'] = cian['combined_n'].astype(int)\n",
    "cian['divided_n'] = cian['divided_n'].astype(int)"
   ]
  },
  {
   "cell_type": "code",
   "execution_count": 80,
   "metadata": {},
   "outputs": [],
   "source": [
    "cian['bathroom'] = cian['combined_n'] + cian['divided_n']"
   ]
  },
  {
   "cell_type": "markdown",
   "metadata": {},
   "source": [
    "Посмотрим как меняется цена в зависимости от количества санузлов."
   ]
  },
  {
   "cell_type": "code",
   "execution_count": 81,
   "metadata": {},
   "outputs": [
    {
     "data": {
      "text/html": [
       "<div>\n",
       "<style scoped>\n",
       "    .dataframe tbody tr th:only-of-type {\n",
       "        vertical-align: middle;\n",
       "    }\n",
       "\n",
       "    .dataframe tbody tr th {\n",
       "        vertical-align: top;\n",
       "    }\n",
       "\n",
       "    .dataframe thead th {\n",
       "        text-align: right;\n",
       "    }\n",
       "</style>\n",
       "<table border=\"1\" class=\"dataframe\">\n",
       "  <thead>\n",
       "    <tr style=\"text-align: right;\">\n",
       "      <th></th>\n",
       "      <th>bathroom</th>\n",
       "      <th>rent_cost</th>\n",
       "    </tr>\n",
       "  </thead>\n",
       "  <tbody>\n",
       "    <tr>\n",
       "      <th>1</th>\n",
       "      <td>1</td>\n",
       "      <td>45000.0000</td>\n",
       "    </tr>\n",
       "    <tr>\n",
       "      <th>0</th>\n",
       "      <td>0</td>\n",
       "      <td>49990.0000</td>\n",
       "    </tr>\n",
       "    <tr>\n",
       "      <th>2</th>\n",
       "      <td>2</td>\n",
       "      <td>130000.0000</td>\n",
       "    </tr>\n",
       "    <tr>\n",
       "      <th>5</th>\n",
       "      <td>5</td>\n",
       "      <td>180000.0000</td>\n",
       "    </tr>\n",
       "    <tr>\n",
       "      <th>4</th>\n",
       "      <td>4</td>\n",
       "      <td>220000.0000</td>\n",
       "    </tr>\n",
       "    <tr>\n",
       "      <th>6</th>\n",
       "      <td>6</td>\n",
       "      <td>230000.0000</td>\n",
       "    </tr>\n",
       "    <tr>\n",
       "      <th>3</th>\n",
       "      <td>3</td>\n",
       "      <td>250000.0000</td>\n",
       "    </tr>\n",
       "  </tbody>\n",
       "</table>\n",
       "</div>"
      ],
      "text/plain": [
       "   bathroom   rent_cost\n",
       "1         1  45000.0000\n",
       "0         0  49990.0000\n",
       "2         2 130000.0000\n",
       "5         5 180000.0000\n",
       "4         4 220000.0000\n",
       "6         6 230000.0000\n",
       "3         3 250000.0000"
      ]
     },
     "execution_count": 81,
     "metadata": {},
     "output_type": "execute_result"
    }
   ],
   "source": [
    "pd.DataFrame(cian.groupby(['bathroom'])['rent_cost'].median().round()).reset_index().sort_values(by='rent_cost')"
   ]
  },
  {
   "cell_type": "markdown",
   "metadata": {},
   "source": [
    "Данный метод не совсем корректно применять в данном случае, поскольку количество санузлов напрямую связано с размерами квартиры, а она, в свою очередь, прямо влияет на величину аренды. Переведем данный показатель в булевый. Если санузлов больше одного в квартире, то присвоим ему 1, а если санузел только 1, то 0."
   ]
  },
  {
   "cell_type": "code",
   "execution_count": 82,
   "metadata": {},
   "outputs": [],
   "source": [
    "dict = {0: 0, 1: 0, 2: 1, 3: 1, 4: 1, 5: 1, 6: 1}\n",
    "cian=cian.replace({\"bathroom\": dict})"
   ]
  },
  {
   "cell_type": "code",
   "execution_count": 83,
   "metadata": {},
   "outputs": [],
   "source": [
    "cian = cian.drop(['combined_n', 'divided_n'], axis=1)"
   ]
  },
  {
   "cell_type": "markdown",
   "metadata": {},
   "source": [
    "### possible_with_children_pets"
   ]
  },
  {
   "cell_type": "code",
   "execution_count": 84,
   "metadata": {},
   "outputs": [
    {
     "data": {
      "text/plain": [
       "array([nan, 'Можно с детьми, Можно с животными', 'Можно с животными',\n",
       "       'Можно с детьми'], dtype=object)"
      ]
     },
     "execution_count": 84,
     "metadata": {},
     "output_type": "execute_result"
    }
   ],
   "source": [
    "cian['possible_with_children_pets'].unique()"
   ]
  },
  {
   "cell_type": "code",
   "execution_count": 85,
   "metadata": {},
   "outputs": [],
   "source": [
    "cian['with_children'] = cian['possible_with_children_pets'].apply(lambda x: x.find('Можно с детьми') >= 0 if type(x) == str else 0)\n",
    "cian['with_animals'] = cian['possible_with_children_pets'].apply(lambda x: x.find('Можно с животными') >= 0 if type(x) == str else 0)\n",
    "\n",
    "cian['with_children'] = cian['with_children'].replace(True, 1)\n",
    "cian['with_children'] = cian['with_children'].replace(False, 0)\n",
    "cian['with_animals'] = cian['with_animals'].replace(True, 1)\n",
    "cian['with_animals'] = cian['with_animals'].replace(False, 0)\n",
    "\n",
    "cian = cian.drop(['possible_with_children_pets'], axis=1)"
   ]
  },
  {
   "cell_type": "code",
   "execution_count": 86,
   "metadata": {},
   "outputs": [
    {
     "data": {
      "text/html": [
       "<div>\n",
       "<style scoped>\n",
       "    .dataframe tbody tr th:only-of-type {\n",
       "        vertical-align: middle;\n",
       "    }\n",
       "\n",
       "    .dataframe tbody tr th {\n",
       "        vertical-align: top;\n",
       "    }\n",
       "\n",
       "    .dataframe thead th {\n",
       "        text-align: right;\n",
       "    }\n",
       "</style>\n",
       "<table border=\"1\" class=\"dataframe\">\n",
       "  <thead>\n",
       "    <tr style=\"text-align: right;\">\n",
       "      <th></th>\n",
       "      <th>address</th>\n",
       "      <th>area_m2</th>\n",
       "      <th>parking</th>\n",
       "      <th>description</th>\n",
       "      <th>loggia</th>\n",
       "      <th>windows</th>\n",
       "      <th>bathroom</th>\n",
       "      <th>additionally</th>\n",
       "      <th>ceiling_height</th>\n",
       "      <th>lift</th>\n",
       "      <th>garbage_chute</th>\n",
       "      <th>rent_cost</th>\n",
       "      <th>rooms:Q</th>\n",
       "      <th>metro_name_code</th>\n",
       "      <th>floor</th>\n",
       "      <th>total_floors</th>\n",
       "      <th>house_type</th>\n",
       "      <th>renovation_type</th>\n",
       "      <th>with_children</th>\n",
       "      <th>with_animals</th>\n",
       "    </tr>\n",
       "  </thead>\n",
       "  <tbody>\n",
       "    <tr>\n",
       "      <th>4</th>\n",
       "      <td>Москва, улица Новый Арбат, 15</td>\n",
       "      <td>58.0000</td>\n",
       "      <td>0</td>\n",
       "      <td>Лот 111542. Татьяна Лучкина.\\n\\nБонус агенту 5...</td>\n",
       "      <td>NaN</td>\n",
       "      <td>На улицу и двор</td>\n",
       "      <td>1</td>\n",
       "      <td>Мебель в комнатах, Мебель на кухне, Ванна, Душ...</td>\n",
       "      <td>3.9000</td>\n",
       "      <td>Пасс (1), Груз (1)</td>\n",
       "      <td>Да</td>\n",
       "      <td>225000.0000</td>\n",
       "      <td>2</td>\n",
       "      <td>190000.0000</td>\n",
       "      <td>12</td>\n",
       "      <td>26</td>\n",
       "      <td>43000.0000</td>\n",
       "      <td>55000.0000</td>\n",
       "      <td>0</td>\n",
       "      <td>0</td>\n",
       "    </tr>\n",
       "    <tr>\n",
       "      <th>7</th>\n",
       "      <td>Москва, улица Арбат, 43С3</td>\n",
       "      <td>98.0000</td>\n",
       "      <td>1</td>\n",
       "      <td>Лот 112453. Ирина Панченко.\\n\\nБонус агенту 40...</td>\n",
       "      <td>NaN</td>\n",
       "      <td>Во двор</td>\n",
       "      <td>1</td>\n",
       "      <td>Мебель в комнатах, Мебель на кухне, Ванна, Душ...</td>\n",
       "      <td>3.2000</td>\n",
       "      <td>Пасс (1)</td>\n",
       "      <td>Нет</td>\n",
       "      <td>250000.0000</td>\n",
       "      <td>3</td>\n",
       "      <td>170000.0000</td>\n",
       "      <td>2</td>\n",
       "      <td>4</td>\n",
       "      <td>70000.0000</td>\n",
       "      <td>55000.0000</td>\n",
       "      <td>1</td>\n",
       "      <td>1</td>\n",
       "    </tr>\n",
       "    <tr>\n",
       "      <th>8</th>\n",
       "      <td>Москва, Новинский бульвар, 18С1</td>\n",
       "      <td>120.0000</td>\n",
       "      <td>0</td>\n",
       "      <td>Лот 71833. Евгений Николаев.\\n\\nБонус агенту 1...</td>\n",
       "      <td>NaN</td>\n",
       "      <td>На улицу</td>\n",
       "      <td>0</td>\n",
       "      <td>Мебель на кухне, Ванна, Стиральная машина, Кон...</td>\n",
       "      <td>3.0000</td>\n",
       "      <td>Пасс (1)</td>\n",
       "      <td>Нет</td>\n",
       "      <td>130000.0000</td>\n",
       "      <td>3</td>\n",
       "      <td>170000.0000</td>\n",
       "      <td>5</td>\n",
       "      <td>10</td>\n",
       "      <td>95000.0000</td>\n",
       "      <td>55000.0000</td>\n",
       "      <td>0</td>\n",
       "      <td>1</td>\n",
       "    </tr>\n",
       "  </tbody>\n",
       "</table>\n",
       "</div>"
      ],
      "text/plain": [
       "                           address  area_m2  parking  \\\n",
       "4    Москва, улица Новый Арбат, 15  58.0000        0   \n",
       "7        Москва, улица Арбат, 43С3  98.0000        1   \n",
       "8  Москва, Новинский бульвар, 18С1 120.0000        0   \n",
       "\n",
       "                                         description loggia          windows  \\\n",
       "4  Лот 111542. Татьяна Лучкина.\\n\\nБонус агенту 5...    NaN  На улицу и двор   \n",
       "7  Лот 112453. Ирина Панченко.\\n\\nБонус агенту 40...    NaN          Во двор   \n",
       "8  Лот 71833. Евгений Николаев.\\n\\nБонус агенту 1...    NaN         На улицу   \n",
       "\n",
       "   bathroom                                       additionally  \\\n",
       "4         1  Мебель в комнатах, Мебель на кухне, Ванна, Душ...   \n",
       "7         1  Мебель в комнатах, Мебель на кухне, Ванна, Душ...   \n",
       "8         0  Мебель на кухне, Ванна, Стиральная машина, Кон...   \n",
       "\n",
       "   ceiling_height                lift garbage_chute   rent_cost  rooms:Q  \\\n",
       "4          3.9000  Пасс (1), Груз (1)            Да 225000.0000        2   \n",
       "7          3.2000            Пасс (1)           Нет 250000.0000        3   \n",
       "8          3.0000            Пасс (1)           Нет 130000.0000        3   \n",
       "\n",
       "   metro_name_code  floor  total_floors  house_type  renovation_type  \\\n",
       "4      190000.0000     12            26  43000.0000       55000.0000   \n",
       "7      170000.0000      2             4  70000.0000       55000.0000   \n",
       "8      170000.0000      5            10  95000.0000       55000.0000   \n",
       "\n",
       "   with_children  with_animals  \n",
       "4              0             0  \n",
       "7              1             1  \n",
       "8              0             1  "
      ]
     },
     "execution_count": 86,
     "metadata": {},
     "output_type": "execute_result"
    }
   ],
   "source": [
    "cian.head(3)"
   ]
  },
  {
   "cell_type": "markdown",
   "metadata": {},
   "source": [
    "## ceiling_height"
   ]
  },
  {
   "cell_type": "code",
   "execution_count": 87,
   "metadata": {},
   "outputs": [
    {
     "data": {
      "text/plain": [
       "0.46100820879814775"
      ]
     },
     "execution_count": 87,
     "metadata": {},
     "output_type": "execute_result"
    }
   ],
   "source": [
    "cian['ceiling_height'].isna().mean()"
   ]
  },
  {
   "cell_type": "code",
   "execution_count": 88,
   "metadata": {},
   "outputs": [],
   "source": [
    "cian.loc[cian[\"ceiling_height\"].isna(), \"ceiling_height\"] = cian.loc[cian[\"ceiling_height\"].isna(), \"address\"].map(cian.groupby(\"address\")[\"ceiling_height\"].first())"
   ]
  },
  {
   "cell_type": "code",
   "execution_count": 89,
   "metadata": {},
   "outputs": [
    {
     "data": {
      "text/plain": [
       "0.2455798779204378"
      ]
     },
     "execution_count": 89,
     "metadata": {},
     "output_type": "execute_result"
    }
   ],
   "source": [
    "cian['ceiling_height'].isna().mean()"
   ]
  },
  {
   "cell_type": "markdown",
   "metadata": {},
   "source": [
    "Данный показатель содержит слишком много пропущенных значений, которые нет возможности восстановить. Удалим его из датасета"
   ]
  },
  {
   "cell_type": "code",
   "execution_count": 90,
   "metadata": {},
   "outputs": [],
   "source": [
    "cian = cian.drop(['ceiling_height'], axis = 'columns')"
   ]
  },
  {
   "cell_type": "markdown",
   "metadata": {},
   "source": [
    "### loggia"
   ]
  },
  {
   "cell_type": "code",
   "execution_count": 91,
   "metadata": {},
   "outputs": [],
   "source": [
    "cian = to_categorical(cian, 'loggia', ('Балкон', 'Лоджия'), ('balcon_n', 'loggia_n'))"
   ]
  },
  {
   "cell_type": "code",
   "execution_count": 92,
   "metadata": {},
   "outputs": [],
   "source": [
    "cian['balcon_n'] = cian['balcon_n'].astype(int)\n",
    "cian['loggia_n'] = cian['loggia_n'].astype(int)"
   ]
  },
  {
   "cell_type": "code",
   "execution_count": 93,
   "metadata": {},
   "outputs": [],
   "source": [
    "cian['loggia'] = cian['balcon_n'] + cian['loggia_n']"
   ]
  },
  {
   "cell_type": "code",
   "execution_count": 94,
   "metadata": {},
   "outputs": [
    {
     "data": {
      "text/html": [
       "<div>\n",
       "<style scoped>\n",
       "    .dataframe tbody tr th:only-of-type {\n",
       "        vertical-align: middle;\n",
       "    }\n",
       "\n",
       "    .dataframe tbody tr th {\n",
       "        vertical-align: top;\n",
       "    }\n",
       "\n",
       "    .dataframe thead th {\n",
       "        text-align: right;\n",
       "    }\n",
       "</style>\n",
       "<table border=\"1\" class=\"dataframe\">\n",
       "  <thead>\n",
       "    <tr style=\"text-align: right;\">\n",
       "      <th></th>\n",
       "      <th>loggia</th>\n",
       "      <th>rent_cost</th>\n",
       "    </tr>\n",
       "  </thead>\n",
       "  <tbody>\n",
       "    <tr>\n",
       "      <th>1</th>\n",
       "      <td>1</td>\n",
       "      <td>45000.0000</td>\n",
       "    </tr>\n",
       "    <tr>\n",
       "      <th>0</th>\n",
       "      <td>0</td>\n",
       "      <td>50000.0000</td>\n",
       "    </tr>\n",
       "    <tr>\n",
       "      <th>2</th>\n",
       "      <td>2</td>\n",
       "      <td>60000.0000</td>\n",
       "    </tr>\n",
       "    <tr>\n",
       "      <th>3</th>\n",
       "      <td>3</td>\n",
       "      <td>78500.0000</td>\n",
       "    </tr>\n",
       "    <tr>\n",
       "      <th>4</th>\n",
       "      <td>4</td>\n",
       "      <td>87500.0000</td>\n",
       "    </tr>\n",
       "    <tr>\n",
       "      <th>5</th>\n",
       "      <td>5</td>\n",
       "      <td>145000.0000</td>\n",
       "    </tr>\n",
       "  </tbody>\n",
       "</table>\n",
       "</div>"
      ],
      "text/plain": [
       "   loggia   rent_cost\n",
       "1       1  45000.0000\n",
       "0       0  50000.0000\n",
       "2       2  60000.0000\n",
       "3       3  78500.0000\n",
       "4       4  87500.0000\n",
       "5       5 145000.0000"
      ]
     },
     "execution_count": 94,
     "metadata": {},
     "output_type": "execute_result"
    }
   ],
   "source": [
    "pd.DataFrame(cian.groupby(['loggia'])['rent_cost'].median().round()).reset_index().sort_values(by='rent_cost')"
   ]
  },
  {
   "cell_type": "markdown",
   "metadata": {},
   "source": [
    "Мы видим, что с увеличением количества балконов и лоджий стоимость квартир растет. Это обусловлено тем, что чем больше комнат в квартире, тем больше балконов/лоджий в ней. С увеличением количества комнат растет площадь квартиры и, соответственно, арендная плата. Чтобы избежать мультиколлинеарности, исключим этот показатель из датасета."
   ]
  },
  {
   "cell_type": "code",
   "execution_count": 95,
   "metadata": {},
   "outputs": [],
   "source": [
    "cian = cian.drop(['loggia', 'balcon_n', 'loggia_n'], axis = 'columns')"
   ]
  },
  {
   "cell_type": "markdown",
   "metadata": {},
   "source": [
    "### windows"
   ]
  },
  {
   "cell_type": "code",
   "execution_count": 96,
   "metadata": {},
   "outputs": [
    {
     "data": {
      "text/plain": [
       "0.25947169017049043"
      ]
     },
     "execution_count": 96,
     "metadata": {},
     "output_type": "execute_result"
    }
   ],
   "source": [
    "cian['windows'].isna().mean()"
   ]
  },
  {
   "cell_type": "markdown",
   "metadata": {},
   "source": [
    "Очень много пропущенных значений, которые не восстановить. Исключим показатель."
   ]
  },
  {
   "cell_type": "code",
   "execution_count": 97,
   "metadata": {},
   "outputs": [],
   "source": [
    "cian = cian.drop(['windows'], axis = 'columns')"
   ]
  },
  {
   "cell_type": "markdown",
   "metadata": {},
   "source": [
    "## garbage_chute"
   ]
  },
  {
   "cell_type": "markdown",
   "metadata": {},
   "source": [
    "Заполним недостающие значения. Данные для заполнения будем брать из других объявлений по аналогичному адресу."
   ]
  },
  {
   "cell_type": "code",
   "execution_count": 98,
   "metadata": {},
   "outputs": [
    {
     "data": {
      "text/plain": [
       "0.3945485161018733"
      ]
     },
     "execution_count": 98,
     "metadata": {},
     "output_type": "execute_result"
    }
   ],
   "source": [
    "cian['garbage_chute'].isna().mean()"
   ]
  },
  {
   "cell_type": "code",
   "execution_count": 99,
   "metadata": {},
   "outputs": [],
   "source": [
    "cian['garbage_chute'] = cian['garbage_chute'].fillna('unknown')"
   ]
  },
  {
   "cell_type": "code",
   "execution_count": 100,
   "metadata": {},
   "outputs": [],
   "source": [
    "cian.loc[cian[\"garbage_chute\"] == 'unknown', \"garbage_chute\"] = cian.loc[cian[\"garbage_chute\"] == 'unknown', \"address\"].map(cian.groupby(\"address\")[\"garbage_chute\"].first())"
   ]
  },
  {
   "cell_type": "code",
   "execution_count": 101,
   "metadata": {},
   "outputs": [
    {
     "data": {
      "text/plain": [
       "Да         11376\n",
       "unknown     5953\n",
       "Нет         1675\n",
       "Name: garbage_chute, dtype: int64"
      ]
     },
     "execution_count": 101,
     "metadata": {},
     "output_type": "execute_result"
    }
   ],
   "source": [
    "cian['garbage_chute'].value_counts()"
   ]
  },
  {
   "cell_type": "code",
   "execution_count": 102,
   "metadata": {},
   "outputs": [
    {
     "data": {
      "text/html": [
       "<div>\n",
       "<style scoped>\n",
       "    .dataframe tbody tr th:only-of-type {\n",
       "        vertical-align: middle;\n",
       "    }\n",
       "\n",
       "    .dataframe tbody tr th {\n",
       "        vertical-align: top;\n",
       "    }\n",
       "\n",
       "    .dataframe thead th {\n",
       "        text-align: right;\n",
       "    }\n",
       "</style>\n",
       "<table border=\"1\" class=\"dataframe\">\n",
       "  <thead>\n",
       "    <tr style=\"text-align: right;\">\n",
       "      <th></th>\n",
       "      <th>garbage_chute</th>\n",
       "      <th>rent_cost</th>\n",
       "    </tr>\n",
       "  </thead>\n",
       "  <tbody>\n",
       "    <tr>\n",
       "      <th>1</th>\n",
       "      <td>Да</td>\n",
       "      <td>45000.0000</td>\n",
       "    </tr>\n",
       "    <tr>\n",
       "      <th>0</th>\n",
       "      <td>unknown</td>\n",
       "      <td>55000.0000</td>\n",
       "    </tr>\n",
       "    <tr>\n",
       "      <th>2</th>\n",
       "      <td>Нет</td>\n",
       "      <td>55000.0000</td>\n",
       "    </tr>\n",
       "  </tbody>\n",
       "</table>\n",
       "</div>"
      ],
      "text/plain": [
       "  garbage_chute  rent_cost\n",
       "1            Да 45000.0000\n",
       "0       unknown 55000.0000\n",
       "2           Нет 55000.0000"
      ]
     },
     "execution_count": 102,
     "metadata": {},
     "output_type": "execute_result"
    }
   ],
   "source": [
    "pd.DataFrame(cian.groupby(['garbage_chute'])['rent_cost'].median().round()).reset_index().sort_values(by='rent_cost')"
   ]
  },
  {
   "cell_type": "markdown",
   "metadata": {},
   "source": [
    "Переведем категориальные значения в булевые"
   ]
  },
  {
   "cell_type": "code",
   "execution_count": 103,
   "metadata": {},
   "outputs": [],
   "source": [
    "dict = {\"Да\": 0, \"Нет\": 1, \"unknown\": 1}\n",
    "cian=cian.replace({\"garbage_chute\": dict})"
   ]
  },
  {
   "cell_type": "markdown",
   "metadata": {},
   "source": [
    "### lift"
   ]
  },
  {
   "cell_type": "code",
   "execution_count": 104,
   "metadata": {},
   "outputs": [],
   "source": [
    "cian = to_categorical(cian, 'lift', ('Груз', 'Пасс'), ('service', 'pass'))"
   ]
  },
  {
   "cell_type": "code",
   "execution_count": 105,
   "metadata": {},
   "outputs": [],
   "source": [
    "cian['service'] = cian['service'].astype(int)\n",
    "cian['pass'] = cian['pass'].astype(int)"
   ]
  },
  {
   "cell_type": "code",
   "execution_count": 106,
   "metadata": {},
   "outputs": [],
   "source": [
    "cian['lift'] = cian['service'] + cian['pass']"
   ]
  },
  {
   "cell_type": "markdown",
   "metadata": {},
   "source": [
    "## Финал"
   ]
  },
  {
   "cell_type": "markdown",
   "metadata": {},
   "source": [
    "Построим матрицу корреляции по оставшимся значениям"
   ]
  },
  {
   "cell_type": "code",
   "execution_count": 107,
   "metadata": {},
   "outputs": [
    {
     "name": "stderr",
     "output_type": "stream",
     "text": [
      "/tmp/ipykernel_46119/3510399493.py:1: FutureWarning: The default value of numeric_only in DataFrame.corr is deprecated. In a future version, it will default to False. Select only valid columns or specify the value of numeric_only to silence this warning.\n",
      "  corr_matrix = cian.corr().round(2)\n"
     ]
    },
    {
     "data": {
      "image/png": "[encoded data removed]",
      "text/plain": [
       "<Figure size 1400x800 with 2 Axes>"
      ]
     },
     "metadata": {},
     "output_type": "display_data"
    }
   ],
   "source": [
    "corr_matrix = cian.corr().round(2)\n",
    "figl, ax = plt.subplots(figsize=(14, 8))\n",
    "sns.heatmap(corr_matrix, annot=True, cmap=\"RdBu\", vmax=1, vmin=-1);"
   ]
  },
  {
   "cell_type": "code",
   "execution_count": 108,
   "metadata": {},
   "outputs": [],
   "source": [
    "# удалим лишние нечисловые столбцы\n",
    "cian = cian.drop(['address', 'description', 'additionally'], axis = 'columns')"
   ]
  },
  {
   "cell_type": "code",
   "execution_count": 109,
   "metadata": {},
   "outputs": [],
   "source": [
    "# удалим лишние столбцы со слишком маленькой корреляцией с ценой (< 0,2)\n",
    "cian = cian.drop(['garbage_chute', 'with_children', 'with_animals', 'lift', 'service', 'pass', 'floor'], axis = 'columns')"
   ]
  },
  {
   "cell_type": "code",
   "execution_count": 110,
   "metadata": {},
   "outputs": [
    {
     "data": {
      "text/plain": [
       "area_m2           0.0000\n",
       "parking           0.0000\n",
       "bathroom          0.0000\n",
       "rent_cost         0.0000\n",
       "rooms:Q           0.0000\n",
       "metro_name_code   0.0000\n",
       "total_floors      0.0000\n",
       "house_type        0.0000\n",
       "renovation_type   0.0000\n",
       "dtype: float64"
      ]
     },
     "execution_count": 110,
     "metadata": {},
     "output_type": "execute_result"
    }
   ],
   "source": [
    "cian.isna().mean()"
   ]
  },
  {
   "cell_type": "code",
   "execution_count": 111,
   "metadata": {},
   "outputs": [
    {
     "data": {
      "text/html": [
       "<div>\n",
       "<style scoped>\n",
       "    .dataframe tbody tr th:only-of-type {\n",
       "        vertical-align: middle;\n",
       "    }\n",
       "\n",
       "    .dataframe tbody tr th {\n",
       "        vertical-align: top;\n",
       "    }\n",
       "\n",
       "    .dataframe thead th {\n",
       "        text-align: right;\n",
       "    }\n",
       "</style>\n",
       "<table border=\"1\" class=\"dataframe\">\n",
       "  <thead>\n",
       "    <tr style=\"text-align: right;\">\n",
       "      <th></th>\n",
       "      <th>area_m2</th>\n",
       "      <th>parking</th>\n",
       "      <th>bathroom</th>\n",
       "      <th>rent_cost</th>\n",
       "      <th>rooms:Q</th>\n",
       "      <th>metro_name_code</th>\n",
       "      <th>total_floors</th>\n",
       "      <th>house_type</th>\n",
       "      <th>renovation_type</th>\n",
       "    </tr>\n",
       "  </thead>\n",
       "  <tbody>\n",
       "    <tr>\n",
       "      <th>count</th>\n",
       "      <td>19004.0000</td>\n",
       "      <td>19004.0000</td>\n",
       "      <td>19004.0000</td>\n",
       "      <td>19004.0000</td>\n",
       "      <td>19004.0000</td>\n",
       "      <td>19004.0000</td>\n",
       "      <td>19004.0000</td>\n",
       "      <td>19004.0000</td>\n",
       "      <td>19004.0000</td>\n",
       "    </tr>\n",
       "    <tr>\n",
       "      <th>mean</th>\n",
       "      <td>57.9560</td>\n",
       "      <td>0.1780</td>\n",
       "      <td>0.1289</td>\n",
       "      <td>67687.8554</td>\n",
       "      <td>1.8888</td>\n",
       "      <td>58949.8221</td>\n",
       "      <td>14.4723</td>\n",
       "      <td>54282.6456</td>\n",
       "      <td>53513.7340</td>\n",
       "    </tr>\n",
       "    <tr>\n",
       "      <th>std</th>\n",
       "      <td>34.4854</td>\n",
       "      <td>0.3825</td>\n",
       "      <td>0.3351</td>\n",
       "      <td>52970.4191</td>\n",
       "      <td>0.9444</td>\n",
       "      <td>33852.0904</td>\n",
       "      <td>8.5695</td>\n",
       "      <td>17728.3879</td>\n",
       "      <td>15585.3621</td>\n",
       "    </tr>\n",
       "    <tr>\n",
       "      <th>min</th>\n",
       "      <td>7.0000</td>\n",
       "      <td>0.0000</td>\n",
       "      <td>0.0000</td>\n",
       "      <td>5000.0000</td>\n",
       "      <td>0.0000</td>\n",
       "      <td>30000.0000</td>\n",
       "      <td>1.0000</td>\n",
       "      <td>37499.5000</td>\n",
       "      <td>35000.0000</td>\n",
       "    </tr>\n",
       "    <tr>\n",
       "      <th>25%</th>\n",
       "      <td>38.0000</td>\n",
       "      <td>0.0000</td>\n",
       "      <td>0.0000</td>\n",
       "      <td>39000.0000</td>\n",
       "      <td>1.0000</td>\n",
       "      <td>40000.0000</td>\n",
       "      <td>9.0000</td>\n",
       "      <td>43000.0000</td>\n",
       "      <td>40000.0000</td>\n",
       "    </tr>\n",
       "    <tr>\n",
       "      <th>50%</th>\n",
       "      <td>47.0000</td>\n",
       "      <td>0.0000</td>\n",
       "      <td>0.0000</td>\n",
       "      <td>50000.0000</td>\n",
       "      <td>2.0000</td>\n",
       "      <td>47000.0000</td>\n",
       "      <td>13.0000</td>\n",
       "      <td>49000.0000</td>\n",
       "      <td>55000.0000</td>\n",
       "    </tr>\n",
       "    <tr>\n",
       "      <th>75%</th>\n",
       "      <td>65.0000</td>\n",
       "      <td>0.0000</td>\n",
       "      <td>0.0000</td>\n",
       "      <td>70000.0000</td>\n",
       "      <td>2.0000</td>\n",
       "      <td>65000.0000</td>\n",
       "      <td>17.0000</td>\n",
       "      <td>70000.0000</td>\n",
       "      <td>55000.0000</td>\n",
       "    </tr>\n",
       "    <tr>\n",
       "      <th>max</th>\n",
       "      <td>800.0000</td>\n",
       "      <td>1.0000</td>\n",
       "      <td>1.0000</td>\n",
       "      <td>349999.0000</td>\n",
       "      <td>6.0000</td>\n",
       "      <td>280000.0000</td>\n",
       "      <td>116.0000</td>\n",
       "      <td>195000.0000</td>\n",
       "      <td>90000.0000</td>\n",
       "    </tr>\n",
       "  </tbody>\n",
       "</table>\n",
       "</div>"
      ],
      "text/plain": [
       "         area_m2    parking   bathroom   rent_cost    rooms:Q  \\\n",
       "count 19004.0000 19004.0000 19004.0000  19004.0000 19004.0000   \n",
       "mean     57.9560     0.1780     0.1289  67687.8554     1.8888   \n",
       "std      34.4854     0.3825     0.3351  52970.4191     0.9444   \n",
       "min       7.0000     0.0000     0.0000   5000.0000     0.0000   \n",
       "25%      38.0000     0.0000     0.0000  39000.0000     1.0000   \n",
       "50%      47.0000     0.0000     0.0000  50000.0000     2.0000   \n",
       "75%      65.0000     0.0000     0.0000  70000.0000     2.0000   \n",
       "max     800.0000     1.0000     1.0000 349999.0000     6.0000   \n",
       "\n",
       "       metro_name_code  total_floors  house_type  renovation_type  \n",
       "count       19004.0000    19004.0000  19004.0000       19004.0000  \n",
       "mean        58949.8221       14.4723  54282.6456       53513.7340  \n",
       "std         33852.0904        8.5695  17728.3879       15585.3621  \n",
       "min         30000.0000        1.0000  37499.5000       35000.0000  \n",
       "25%         40000.0000        9.0000  43000.0000       40000.0000  \n",
       "50%         47000.0000       13.0000  49000.0000       55000.0000  \n",
       "75%         65000.0000       17.0000  70000.0000       55000.0000  \n",
       "max        280000.0000      116.0000 195000.0000       90000.0000  "
      ]
     },
     "execution_count": 111,
     "metadata": {},
     "output_type": "execute_result"
    }
   ],
   "source": [
    "cian.describe()"
   ]
  },
  {
   "cell_type": "code",
   "execution_count": 112,
   "metadata": {},
   "outputs": [
    {
     "data": {
      "text/html": [
       "<div>\n",
       "<style scoped>\n",
       "    .dataframe tbody tr th:only-of-type {\n",
       "        vertical-align: middle;\n",
       "    }\n",
       "\n",
       "    .dataframe tbody tr th {\n",
       "        vertical-align: top;\n",
       "    }\n",
       "\n",
       "    .dataframe thead th {\n",
       "        text-align: right;\n",
       "    }\n",
       "</style>\n",
       "<table border=\"1\" class=\"dataframe\">\n",
       "  <thead>\n",
       "    <tr style=\"text-align: right;\">\n",
       "      <th></th>\n",
       "      <th>area_m2</th>\n",
       "      <th>parking</th>\n",
       "      <th>bathroom</th>\n",
       "      <th>rent_cost</th>\n",
       "      <th>rooms:Q</th>\n",
       "      <th>metro_name_code</th>\n",
       "      <th>total_floors</th>\n",
       "      <th>house_type</th>\n",
       "      <th>renovation_type</th>\n",
       "    </tr>\n",
       "  </thead>\n",
       "  <tbody>\n",
       "    <tr>\n",
       "      <th>15879</th>\n",
       "      <td>38.0000</td>\n",
       "      <td>0</td>\n",
       "      <td>0</td>\n",
       "      <td>46000.0000</td>\n",
       "      <td>1</td>\n",
       "      <td>61500.0000</td>\n",
       "      <td>17</td>\n",
       "      <td>43000.0000</td>\n",
       "      <td>55000.0000</td>\n",
       "    </tr>\n",
       "    <tr>\n",
       "      <th>4050</th>\n",
       "      <td>39.0000</td>\n",
       "      <td>0</td>\n",
       "      <td>0</td>\n",
       "      <td>28000.0000</td>\n",
       "      <td>1</td>\n",
       "      <td>42000.0000</td>\n",
       "      <td>12</td>\n",
       "      <td>49000.0000</td>\n",
       "      <td>40000.0000</td>\n",
       "    </tr>\n",
       "    <tr>\n",
       "      <th>9123</th>\n",
       "      <td>40.0000</td>\n",
       "      <td>0</td>\n",
       "      <td>0</td>\n",
       "      <td>37000.0000</td>\n",
       "      <td>2</td>\n",
       "      <td>40000.0000</td>\n",
       "      <td>24</td>\n",
       "      <td>43000.0000</td>\n",
       "      <td>40000.0000</td>\n",
       "    </tr>\n",
       "  </tbody>\n",
       "</table>\n",
       "</div>"
      ],
      "text/plain": [
       "       area_m2  parking  bathroom  rent_cost  rooms:Q  metro_name_code  \\\n",
       "15879  38.0000        0         0 46000.0000        1       61500.0000   \n",
       "4050   39.0000        0         0 28000.0000        1       42000.0000   \n",
       "9123   40.0000        0         0 37000.0000        2       40000.0000   \n",
       "\n",
       "       total_floors  house_type  renovation_type  \n",
       "15879            17  43000.0000       55000.0000  \n",
       "4050             12  49000.0000       40000.0000  \n",
       "9123             24  43000.0000       40000.0000  "
      ]
     },
     "execution_count": 112,
     "metadata": {},
     "output_type": "execute_result"
    }
   ],
   "source": [
    "cian.sample(3)"
   ]
  },
  {
   "cell_type": "code",
   "execution_count": 113,
   "metadata": {},
   "outputs": [
    {
     "data": {
      "image/png": "[encoded data removed]",
      "text/plain": [
       "<Figure size 1400x800 with 2 Axes>"
      ]
     },
     "metadata": {},
     "output_type": "display_data"
    }
   ],
   "source": [
    "corr_matrix = cian.corr().round(2)\n",
    "figl, ax = plt.subplots(figsize=(14, 8))\n",
    "sns.heatmap(corr_matrix, annot=True, cmap=\"RdBu\", vmax=1, vmin=-1);"
   ]
  },
  {
   "cell_type": "code",
   "execution_count": 114,
   "metadata": {},
   "outputs": [],
   "source": [
    "cian.to_csv('file.csv') "
   ]
  }
 ],
 "metadata": {
  "kernelspec": {
   "display_name": "Python 3.10.6 ('.cian': venv)",
   "language": "python",
   "name": "python3"
  },
  "language_info": {
   "codemirror_mode": {
    "name": "ipython",
    "version": 3
   },
   "file_extension": ".py",
   "mimetype": "text/x-python",
   "name": "python",
   "nbconvert_exporter": "python",
   "pygments_lexer": "ipython3",
   "version": "3.10.6"
  },
  "orig_nbformat": 4,
  "vscode": {
   "interpreter": {
    "hash": "8c62f9743b7179d10bd3b27f562f22820c853e1f61998c5732f0189d19f35cac"
   }
  }
 },
 "nbformat": 4,
 "nbformat_minor": 2
}
